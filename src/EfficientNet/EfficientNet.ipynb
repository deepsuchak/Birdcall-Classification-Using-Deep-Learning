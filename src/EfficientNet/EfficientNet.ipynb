{
 "cells": [
  {
   "cell_type": "code",
   "execution_count": 1,
   "metadata": {},
   "outputs": [],
   "source": [
    "import numpy as np\n",
    "import pandas as pd\n",
    "import wave\n",
    "from scipy.io import wavfile\n",
    "import shutil\n",
    "import os\n",
    "import librosa\n",
    "from librosa.feature import melspectrogram\n",
    "import warnings\n",
    "from sklearn.utils import shuffle\n",
    "from sklearn.utils import class_weight\n",
    "from PIL import Image\n",
    "from uuid import uuid4\n",
    "import sklearn\n",
    "from tqdm import tqdm\n",
    "import matplotlib.pyplot as plt\n",
    "import pickle\n",
    "import tensorflow as tf\n",
    "from tensorflow.keras.models import Sequential\n",
    "from tensorflow.keras import layers\n",
    "from tensorflow.keras import Input\n",
    "from tensorflow.keras.models import Model, load_model\n",
    "from tensorflow.keras.layers import Dense, Flatten, Dropout, Activation\n",
    "from tensorflow.keras.layers import BatchNormalization, GlobalAveragePooling2D\n",
    "from tensorflow.keras.callbacks import ModelCheckpoint, ReduceLROnPlateau, EarlyStopping\n",
    "from tensorflow.keras.utils import to_categorical\n",
    "from tensorflow.keras.layers import Dense, Flatten, Dropout, Activation, LSTM, SimpleRNN, Conv1D, Input, BatchNormalization, GlobalAveragePooling2D\n",
    "from tensorflow.keras.preprocessing.image import ImageDataGenerator\n",
    "from tensorflow.keras.applications import EfficientNetB0\n",
    "from sklearn.metrics import accuracy_score, precision_score, recall_score, f1_score, matthews_corrcoef, confusion_matrix, ConfusionMatrixDisplay\n",
    "from tensorflow.keras.callbacks import Callback\n",
    "import seaborn as sns"
   ]
  },
  {
   "cell_type": "code",
   "execution_count": 2,
   "metadata": {},
   "outputs": [
    {
     "name": "stdout",
     "output_type": "stream",
     "text": [
      "Default GPU Device: /device:GPU:0\n"
     ]
    }
   ],
   "source": [
    "np.random.seed(1)\n",
    "tf.random.set_seed(2)\n",
    "os.environ['TF_CUDNN_DETERMINISTIC'] = 'true'\n",
    "os.environ['TF_DETERMINISTIC_OPS'] = 'true'\n",
    "tf.config.threading.set_inter_op_parallelism_threads(1)\n",
    "tf.config.threading.set_intra_op_parallelism_threads(1)\n",
    "if tf.test.gpu_device_name():\n",
    "    print('Default GPU Device: {}'.format(tf.test.gpu_device_name()))\n",
    "else:\n",
    "    print(\"GPU not found. Using CPU.\")"
   ]
  },
  {
   "cell_type": "code",
   "execution_count": 3,
   "metadata": {},
   "outputs": [
    {
     "name": "stdout",
     "output_type": "stream",
     "text": [
      "      mp3_filename    Bird\n",
      "0     XC125512.mp3  amered\n",
      "1     XC134496.mp3  amered\n",
      "2     XC134499.mp3  amered\n",
      "3     XC135440.mp3  amered\n",
      "4     XC135462.mp3  amered\n",
      "...            ...     ...\n",
      "2461  XC469599.mp3  yerwar\n",
      "2462  XC475039.mp3  yerwar\n",
      "2463  XC475291.mp3  yerwar\n",
      "2464  XC499252.mp3  yerwar\n",
      "2465  XC503063.mp3  yerwar\n",
      "\n",
      "[2466 rows x 2 columns]\n"
     ]
    }
   ],
   "source": [
    "folder_path = './Preprocessing/train_audio/'\n",
    "\n",
    "mp3_files = []\n",
    "\n",
    "# Walk through all directories and subdirectories\n",
    "for root, dirs, files in os.walk(folder_path):\n",
    "    for file in files:\n",
    "        if file.endswith('.mp3'):\n",
    "            mp3_files.append({'mp3_filename': file, 'Bird': os.path.relpath(root, folder_path)})\n",
    "\n",
    "# Create DataFrame from the list of dictionaries\n",
    "df = pd.DataFrame(mp3_files)\n",
    "\n",
    "print(df)"
   ]
  },
  {
   "cell_type": "code",
   "execution_count": 4,
   "metadata": {},
   "outputs": [
    {
     "data": {
      "text/plain": [
       "2466"
      ]
     },
     "execution_count": 4,
     "metadata": {},
     "output_type": "execute_result"
    }
   ],
   "source": [
    "train_df = pd.read_csv('./train.csv')\n",
    "train_df = train_df.merge(df, left_on='filename', right_on='mp3_filename', how='inner')\n",
    "train_df = shuffle(train_df)\n",
    "len(train_df)"
   ]
  },
  {
   "cell_type": "code",
   "execution_count": 5,
   "metadata": {},
   "outputs": [
    {
     "name": "stdout",
     "output_type": "stream",
     "text": [
      "['amered', 'amewoo', 'bewwre', 'bkhgro', 'bktspa', 'brespa', 'brncre', 'buggna', 'chispa', 'comter', 'comyel', 'eastow', 'foxspa', 'gnttow', 'gockin', 'grtgra', 'hoowar', 'houfin', 'indbun', 'lesgol', 'linspa', 'logshr', 'marwre', 'norcar', 'norpar', 'norwat', 'orcwar', 'pinwar', 'purfin', 'reevir1', 'renpha', 'stejay', 'tuftit', 'veery', 'westan', 'whbnut', 'whcspa', 'whtspa', 'woothr', 'yerwar']\n"
     ]
    }
   ],
   "source": [
    "birds_to_recognise = sorted(shuffle(train_df.ebird_code.unique()))\n",
    "print(birds_to_recognise)"
   ]
  },
  {
   "cell_type": "code",
   "execution_count": 6,
   "metadata": {},
   "outputs": [],
   "source": [
    "def get_sample(filename, bird, output_folder):\n",
    "    wave_data, wave_rate = librosa.load(filename)\n",
    "    wave_data, _ = librosa.effects.trim(wave_data)\n",
    "    # Only take 3s samples and add them to the dataframe\n",
    "    song_sample = []\n",
    "    sample_length = 5 * wave_rate\n",
    "    samples_from_file = []\n",
    "    N_mels = 216  # Chosen mainly to create a 216x216 image\n",
    "    \n",
    "    for idx in range(0, len(wave_data), sample_length): \n",
    "        song_sample = wave_data[idx:idx+sample_length]\n",
    "        if len(song_sample) >= sample_length:\n",
    "            # Call melspectrogram from the librosa.feature module\n",
    "            mel = librosa.feature.melspectrogram(y=song_sample, sr=wave_rate, n_mels=N_mels)\n",
    "            db = librosa.power_to_db(mel)\n",
    "            normalised_db = sklearn.preprocessing.minmax_scale(db)\n",
    "            filename = str(uuid4()) + \".png\"\n",
    "            db_array = (np.asarray(normalised_db) * 255).astype(np.uint8)\n",
    "            db_image = Image.fromarray(np.array([db_array, db_array, db_array]).T)\n",
    "            db_image.save(\"{}{}\".format(output_folder, filename))\n",
    "            \n",
    "            samples_from_file.append({\n",
    "                \"song_sample\": \"{}{}\".format(output_folder, filename),\n",
    "                \"bird\": bird\n",
    "            })\n",
    "    return samples_from_file"
   ]
  },
  {
   "cell_type": "code",
   "execution_count": 14,
   "metadata": {},
   "outputs": [
    {
     "name": "stderr",
     "output_type": "stream",
     "text": [
      "100%|██████████| 2466/2466 [17:26<00:00,  2.36it/s]"
     ]
    },
    {
     "name": "stdout",
     "output_type": "stream",
     "text": [
      "CPU times: total: 4min 23s\n",
      "Wall time: 17min 31s\n"
     ]
    },
    {
     "name": "stderr",
     "output_type": "stream",
     "text": [
      "\n"
     ]
    }
   ],
   "source": [
    "%%time\n",
    "warnings.filterwarnings(\"ignore\")\n",
    "samples_df = pd.DataFrame(columns=[\"song_sample\",\"bird\"])\n",
    "sample_limit = len(train_df)\n",
    "sample_list = []\n",
    "output_folder = './melspectrogram4_dataset/'\n",
    "if os.path.exists(output_folder):\n",
    "    shutil.rmtree(output_folder)\n",
    "os.mkdir(output_folder)\n",
    "with tqdm(total=sample_limit) as pbar:\n",
    "    for idx, row in train_df[:sample_limit].iterrows():\n",
    "        pbar.update(1)\n",
    "        try:\n",
    "            audio_file_path = './Preprocessing/train_audio/'\n",
    "            audio_file_path += row.ebird_code\n",
    "            if row.ebird_code in birds_to_recognise:\n",
    "                sample_list += get_sample('{}/{}'.format(audio_file_path, row.filename), row.ebird_code, output_folder)\n",
    "            else:\n",
    "                sample_list += get_sample('{}/{}'.format(audio_file_path, row.filename), \"nocall\", output_folder)\n",
    "        except:\n",
    "            raise\n",
    "            print(\"{} is corrupted\".format(audio_file_path))\n",
    "            \n",
    "samples_df = pd.DataFrame(sample_list)\n",
    "samples_df = shuffle(samples_df)\n",
    "samples_df.to_csv(r'./samples_df.csv', index=False)"
   ]
  },
  {
   "cell_type": "code",
   "execution_count": 7,
   "metadata": {},
   "outputs": [],
   "source": [
    "samples_df = pd.read_csv(r\"./samples_df.csv\")"
   ]
  },
  {
   "cell_type": "code",
   "execution_count": 8,
   "metadata": {},
   "outputs": [
    {
     "name": "stdout",
     "output_type": "stream",
     "text": [
      "bird\n",
      "amered     762\n",
      "brespa     750\n",
      "whtspa     748\n",
      "marwre     734\n",
      "woothr     722\n",
      "gockin     700\n",
      "bktspa     677\n",
      "houfin     658\n",
      "linspa     656\n",
      "hoowar     653\n",
      "foxspa     645\n",
      "comyel     632\n",
      "gnttow     631\n",
      "buggna     627\n",
      "reevir1    624\n",
      "orcwar     608\n",
      "comter     607\n",
      "bkhgro     601\n",
      "tuftit     600\n",
      "veery      597\n",
      "yerwar     593\n",
      "brncre     591\n",
      "amewoo     591\n",
      "norcar     587\n",
      "westan     583\n",
      "indbun     577\n",
      "lesgol     577\n",
      "whcspa     559\n",
      "bewwre     543\n",
      "logshr     536\n",
      "grtgra     516\n",
      "whbnut     513\n",
      "norwat     511\n",
      "norpar     506\n",
      "eastow     504\n",
      "chispa     491\n",
      "stejay     484\n",
      "purfin     481\n",
      "pinwar     386\n",
      "renpha     256\n",
      "Name: count, dtype: int64\n"
     ]
    },
    {
     "data": {
      "text/html": [
       "<div>\n",
       "<style scoped>\n",
       "    .dataframe tbody tr th:only-of-type {\n",
       "        vertical-align: middle;\n",
       "    }\n",
       "\n",
       "    .dataframe tbody tr th {\n",
       "        vertical-align: top;\n",
       "    }\n",
       "\n",
       "    .dataframe thead th {\n",
       "        text-align: right;\n",
       "    }\n",
       "</style>\n",
       "<table border=\"1\" class=\"dataframe\">\n",
       "  <thead>\n",
       "    <tr style=\"text-align: right;\">\n",
       "      <th></th>\n",
       "      <th>song_sample</th>\n",
       "      <th>bird</th>\n",
       "    </tr>\n",
       "  </thead>\n",
       "  <tbody>\n",
       "    <tr>\n",
       "      <th>3806</th>\n",
       "      <td>./melspectrogram4_dataset/c3ecf2da-35cb-4162-b...</td>\n",
       "      <td>gnttow</td>\n",
       "    </tr>\n",
       "    <tr>\n",
       "      <th>21790</th>\n",
       "      <td>./melspectrogram4_dataset/e2ec8a1c-a304-4134-b...</td>\n",
       "      <td>whbnut</td>\n",
       "    </tr>\n",
       "    <tr>\n",
       "      <th>505</th>\n",
       "      <td>./melspectrogram4_dataset/9fb0914d-33da-42da-8...</td>\n",
       "      <td>gockin</td>\n",
       "    </tr>\n",
       "    <tr>\n",
       "      <th>3832</th>\n",
       "      <td>./melspectrogram4_dataset/6355ab87-ac57-44c8-b...</td>\n",
       "      <td>chispa</td>\n",
       "    </tr>\n",
       "    <tr>\n",
       "      <th>7052</th>\n",
       "      <td>./melspectrogram4_dataset/7685d604-cff5-4916-8...</td>\n",
       "      <td>stejay</td>\n",
       "    </tr>\n",
       "    <tr>\n",
       "      <th>9450</th>\n",
       "      <td>./melspectrogram4_dataset/f7d859f9-71e0-4cd2-9...</td>\n",
       "      <td>norpar</td>\n",
       "    </tr>\n",
       "    <tr>\n",
       "      <th>19659</th>\n",
       "      <td>./melspectrogram4_dataset/87ca6853-2f77-4f78-a...</td>\n",
       "      <td>whcspa</td>\n",
       "    </tr>\n",
       "    <tr>\n",
       "      <th>18371</th>\n",
       "      <td>./melspectrogram4_dataset/168f8b9d-0667-4ab2-a...</td>\n",
       "      <td>hoowar</td>\n",
       "    </tr>\n",
       "    <tr>\n",
       "      <th>17906</th>\n",
       "      <td>./melspectrogram4_dataset/4cf749a6-0fff-43f0-8...</td>\n",
       "      <td>tuftit</td>\n",
       "    </tr>\n",
       "    <tr>\n",
       "      <th>18161</th>\n",
       "      <td>./melspectrogram4_dataset/89cdd0cc-d10c-494f-8...</td>\n",
       "      <td>amewoo</td>\n",
       "    </tr>\n",
       "  </tbody>\n",
       "</table>\n",
       "</div>"
      ],
      "text/plain": [
       "                                             song_sample    bird\n",
       "3806   ./melspectrogram4_dataset/c3ecf2da-35cb-4162-b...  gnttow\n",
       "21790  ./melspectrogram4_dataset/e2ec8a1c-a304-4134-b...  whbnut\n",
       "505    ./melspectrogram4_dataset/9fb0914d-33da-42da-8...  gockin\n",
       "3832   ./melspectrogram4_dataset/6355ab87-ac57-44c8-b...  chispa\n",
       "7052   ./melspectrogram4_dataset/7685d604-cff5-4916-8...  stejay\n",
       "9450   ./melspectrogram4_dataset/f7d859f9-71e0-4cd2-9...  norpar\n",
       "19659  ./melspectrogram4_dataset/87ca6853-2f77-4f78-a...  whcspa\n",
       "18371  ./melspectrogram4_dataset/168f8b9d-0667-4ab2-a...  hoowar\n",
       "17906  ./melspectrogram4_dataset/4cf749a6-0fff-43f0-8...  tuftit\n",
       "18161  ./melspectrogram4_dataset/89cdd0cc-d10c-494f-8...  amewoo"
      ]
     },
     "execution_count": 8,
     "metadata": {},
     "output_type": "execute_result"
    }
   ],
   "source": [
    "samples_df = shuffle(samples_df)\n",
    "print(samples_df.bird.value_counts())\n",
    "samples_df[:10]"
   ]
  },
  {
   "cell_type": "code",
   "execution_count": 9,
   "metadata": {},
   "outputs": [
    {
     "name": "stdout",
     "output_type": "stream",
     "text": [
      "Training samples: 16531\n",
      "Validation samples: 3542\n",
      "Test samples: 3544\n"
     ]
    }
   ],
   "source": [
    "training_percentage = 0.7\n",
    "validation_percentage = 0.15\n",
    "training_item_count = int(len(samples_df)*training_percentage)\n",
    "validation_item_count = int(len(samples_df)*validation_percentage)\n",
    "training_df = samples_df[:training_item_count]\n",
    "validation_df = samples_df[training_item_count:training_item_count+validation_item_count]\n",
    "test_df = samples_df[training_item_count+validation_item_count:]\n",
    "print(\"Training samples:\", len(training_df))\n",
    "print(\"Validation samples:\", len(validation_df))\n",
    "print(\"Test samples:\", len(test_df))"
   ]
  },
  {
   "cell_type": "code",
   "execution_count": 10,
   "metadata": {},
   "outputs": [
    {
     "name": "stdout",
     "output_type": "stream",
     "text": [
      "Model: \"sequential\"\n",
      "_________________________________________________________________\n",
      " Layer (type)                Output Shape              Param #   \n",
      "=================================================================\n",
      " efficientnetb0 (Functional)  (None, 7, 7, 1280)       4049571   \n",
      "                                                                 \n",
      " global_average_pooling2d (G  (None, 1280)             0         \n",
      " lobalAveragePooling2D)                                          \n",
      "                                                                 \n",
      " dense (Dense)               (None, 256)               327680    \n",
      "                                                                 \n",
      " batch_normalization (BatchN  (None, 256)              1024      \n",
      " ormalization)                                                   \n",
      "                                                                 \n",
      " activation (Activation)     (None, 256)               0         \n",
      "                                                                 \n",
      " dropout (Dropout)           (None, 256)               0         \n",
      "                                                                 \n",
      " dense_1 (Dense)             (None, 40)                10280     \n",
      "                                                                 \n",
      "=================================================================\n",
      "Total params: 4,388,555\n",
      "Trainable params: 4,346,020\n",
      "Non-trainable params: 42,535\n",
      "_________________________________________________________________\n"
     ]
    }
   ],
   "source": [
    "input_shape = (216, 216, 3)\n",
    "classes_to_predict = sorted(samples_df.bird.unique())\n",
    "\n",
    "# Initialize EfficientNetB0 with ImageNet weights\n",
    "effnet_layers = EfficientNetB0(weights=None, include_top=False, input_shape=input_shape)\n",
    "for layer in effnet_layers.layers:\n",
    "    layer.trainable = True\n",
    "\n",
    "dropout_dense_layer = 0.3\n",
    "\n",
    "model = Sequential()\n",
    "model.add(effnet_layers)\n",
    "model.add(GlobalAveragePooling2D())\n",
    "model.add(Dense(256, use_bias=False))\n",
    "model.add(BatchNormalization())\n",
    "model.add(Activation('relu'))\n",
    "model.add(Dropout(dropout_dense_layer))\n",
    "\n",
    "model.add(Dense(len(classes_to_predict), activation=\"softmax\"))\n",
    "    \n",
    "model.summary()"
   ]
  },
  {
   "cell_type": "code",
   "execution_count": 11,
   "metadata": {},
   "outputs": [
    {
     "name": "stdout",
     "output_type": "stream",
     "text": [
      "['amered' 'amewoo' 'bewwre' 'bkhgro' 'bktspa' 'brespa' 'brncre' 'buggna'\n",
      " 'chispa' 'comter' 'comyel' 'eastow' 'foxspa' 'gnttow' 'gockin' 'grtgra'\n",
      " 'hoowar' 'houfin' 'indbun' 'lesgol' 'linspa' 'logshr' 'marwre' 'norcar'\n",
      " 'norpar' 'norwat' 'orcwar' 'pinwar' 'purfin' 'reevir1' 'renpha' 'stejay'\n",
      " 'tuftit' 'veery' 'westan' 'whbnut' 'whcspa' 'whtspa' 'woothr' 'yerwar']\n"
     ]
    }
   ],
   "source": [
    "# Convert the list of classes to a NumPy array\n",
    "classes_array = np.array(sorted(samples_df.bird.unique()))\n",
    "print(classes_array)\n",
    "\n",
    "# Now, you can use classes_array in compute_class_weight\n",
    "class_weights = class_weight.compute_class_weight(class_weight=\"balanced\", classes=classes_array, y=samples_df.bird.values)\n",
    "class_weights_dict = {i: class_weights[i] for i, label in enumerate(classes_array)}"
   ]
  },
  {
   "cell_type": "code",
   "execution_count": 12,
   "metadata": {},
   "outputs": [
    {
     "name": "stdout",
     "output_type": "stream",
     "text": [
      "Found 16531 validated image filenames belonging to 40 classes.\n",
      "Found 3542 validated image filenames belonging to 40 classes.\n",
      "Found 3544 validated image filenames belonging to 40 classes.\n"
     ]
    }
   ],
   "source": [
    "batch_size = 32\n",
    "target_size = (216, 216)\n",
    "\n",
    "train_datagen = ImageDataGenerator(rescale=1. / 255)\n",
    "validation_datagen = ImageDataGenerator(rescale=1. / 255)\n",
    "test_datagen = ImageDataGenerator(rescale=1. / 255)\n",
    "\n",
    "train_generator = train_datagen.flow_from_dataframe(\n",
    "    dataframe=training_df,\n",
    "    directory=None,\n",
    "    x_col=\"song_sample\",\n",
    "    y_col=\"bird\",\n",
    "    class_mode=\"categorical\",\n",
    "    batch_size=batch_size,\n",
    "    target_size=target_size,\n",
    "    shuffle=True)\n",
    "\n",
    "validation_generator = validation_datagen.flow_from_dataframe(\n",
    "    dataframe=validation_df,\n",
    "    directory=None,\n",
    "    x_col=\"song_sample\",\n",
    "    y_col=\"bird\",\n",
    "    class_mode=\"categorical\",\n",
    "    batch_size=batch_size,\n",
    "    target_size=target_size,\n",
    "    shuffle=False)\n",
    "\n",
    "test_generator = test_datagen.flow_from_dataframe(\n",
    "    dataframe=test_df,\n",
    "    directory=None,\n",
    "    x_col=\"song_sample\",\n",
    "    y_col=\"bird\",\n",
    "    class_mode=\"categorical\",\n",
    "    batch_size=batch_size,\n",
    "    target_size=target_size,\n",
    "    shuffle=False)"
   ]
  },
  {
   "cell_type": "code",
   "execution_count": 13,
   "metadata": {},
   "outputs": [],
   "source": [
    "num_epochs = 25\n",
    "val_accuracy_list = []\n",
    "val_mcc_list = []\n",
    "val_f1_list = []\n",
    "val_recall_list = []\n",
    "val_precision_list = []\n",
    "\n",
    "class MetricsCallback(Callback):\n",
    "    def __init__(self, data):\n",
    "        super(MetricsCallback, self).__init__()\n",
    "        self.data = data\n",
    "    \n",
    "    def on_epoch_end(self, epoch, logs=None):\n",
    "        val_predict = np.argmax(self.model.predict(self.data), axis=1)\n",
    "        val_true = self.data.classes\n",
    "        \n",
    "        val_acc = round(accuracy_score(val_true, val_predict)*100, 4)\n",
    "        val_mcc = matthews_corrcoef(val_true, val_predict)\n",
    "        val_f1 = f1_score(val_true, val_predict, average='weighted')\n",
    "        val_recall = recall_score(val_true, val_predict, average='weighted')\n",
    "        val_precision = precision_score(val_true, val_predict, average='weighted', zero_division=0)\n",
    "        \n",
    "        if epoch == num_epochs:\n",
    "            cm = confusion_matrix(val_true, val_predict)\n",
    "            plt.figure(figsize=(8, 6))\n",
    "            sns.heatmap(cm, cmap='crest', xticklabels=False, yticklabels=False, linecolor='black', linewidths=0.25)\n",
    "            plt.xlabel('Predicted')\n",
    "            plt.ylabel('True')\n",
    "            plt.title('Confusion Matrix')\n",
    "            plt.show()\n",
    "        \n",
    "        val_accuracy_list.append(val_acc)\n",
    "        val_mcc_list.append(val_mcc)\n",
    "        val_f1_list.append(val_f1)\n",
    "        val_recall_list.append(val_recall)\n",
    "        val_precision_list.append(val_precision)\n",
    "        \n",
    "        print(f'Epoch {epoch + 1}: Val Accuracy - {val_acc}, Val MCC - {val_mcc}, Val F1 - {val_f1}, Val Recall - {val_recall}, Val Precision - {val_precision}')"
   ]
  },
  {
   "cell_type": "code",
   "execution_count": 14,
   "metadata": {},
   "outputs": [],
   "source": [
    "callbacks = [\n",
    "    ReduceLROnPlateau(monitor='val_loss', patience=2, verbose=1, factor=0.75),\n",
    "    EarlyStopping(monitor='val_loss', patience=5),\n",
    "    ModelCheckpoint(filepath='./output/models/model_4.keras', monitor='val_loss', save_best_only=True),\n",
    "    MetricsCallback(data=validation_generator)\n",
    "]\n",
    "model.compile(loss=\"categorical_crossentropy\", optimizer='adam', metrics=[\"accuracy\"])"
   ]
  },
  {
   "cell_type": "code",
   "execution_count": 15,
   "metadata": {},
   "outputs": [
    {
     "name": "stdout",
     "output_type": "stream",
     "text": [
      "Epoch 1/25\n",
      "111/111 [==============================] - 20s 164ms/step\n",
      "Epoch 1: Val Accuracy - 2.9362, Val MCC - 0.015828617776681986, Val F1 - 0.002974659829445321, Val Recall - 0.029361942405420668, Val Precision - 0.0016010049804555365\n",
      "517/517 [==============================] - 261s 482ms/step - loss: 3.7779 - accuracy: 0.0435 - val_loss: 3.8230 - val_accuracy: 0.0294 - lr: 0.0010\n",
      "Epoch 2/25\n",
      "111/111 [==============================] - 13s 117ms/step\n",
      "Epoch 2: Val Accuracy - 15.528, Val MCC - 0.13408440058391113, Val F1 - 0.11216174970983889, Val Recall - 0.15527950310559005, Val Precision - 0.14213996357951444\n",
      "517/517 [==============================] - 218s 422ms/step - loss: 3.3447 - accuracy: 0.1195 - val_loss: 3.5084 - val_accuracy: 0.1553 - lr: 0.0010\n",
      "Epoch 3/25\n",
      "111/111 [==============================] - 13s 121ms/step\n",
      "Epoch 3: Val Accuracy - 34.1615, Val MCC - 0.32885808905394875, Val F1 - 0.3231951138396107, Val Recall - 0.3416149068322981, Val Precision - 0.41499112044085706\n",
      "517/517 [==============================] - 203s 392ms/step - loss: 2.6189 - accuracy: 0.2860 - val_loss: 2.3826 - val_accuracy: 0.3416 - lr: 0.0010\n",
      "Epoch 4/25\n",
      "111/111 [==============================] - 13s 117ms/step\n",
      "Epoch 4: Val Accuracy - 44.9464, Val MCC - 0.4379096347147385, Val F1 - 0.44839126379662747, Val Recall - 0.4494635798983625, Val Precision - 0.5167555277677104\n",
      "517/517 [==============================] - 197s 381ms/step - loss: 2.0432 - accuracy: 0.4372 - val_loss: 2.2438 - val_accuracy: 0.4495 - lr: 0.0010\n",
      "Epoch 5/25\n",
      "111/111 [==============================] - 17s 153ms/step\n",
      "Epoch 5: Val Accuracy - 40.3727, Val MCC - 0.3921681752477789, Val F1 - 0.4013287788903022, Val Recall - 0.40372670807453415, Val Precision - 0.5272788604234403\n",
      "517/517 [==============================] - 212s 410ms/step - loss: 1.6373 - accuracy: 0.5481 - val_loss: 2.2118 - val_accuracy: 0.4037 - lr: 0.0010\n",
      "Epoch 6/25\n",
      "111/111 [==============================] - 22s 202ms/step\n",
      "Epoch 6: Val Accuracy - 60.4461, Val MCC - 0.5948285635280944, Val F1 - 0.5986515770824965, Val Recall - 0.6044607566346697, Val Precision - 0.6262619858437367\n",
      "517/517 [==============================] - 237s 459ms/step - loss: 1.3213 - accuracy: 0.6352 - val_loss: 1.5154 - val_accuracy: 0.6045 - lr: 0.0010\n",
      "Epoch 7/25\n",
      "111/111 [==============================] - 13s 116ms/step\n",
      "Epoch 7: Val Accuracy - 59.7403, Val MCC - 0.5884174769716882, Val F1 - 0.6017585611035945, Val Recall - 0.5974025974025974, Val Precision - 0.664818896289755\n",
      "517/517 [==============================] - 208s 403ms/step - loss: 1.0656 - accuracy: 0.7017 - val_loss: 1.5641 - val_accuracy: 0.5974 - lr: 0.0010\n",
      "Epoch 8/25\n",
      "111/111 [==============================] - 14s 124ms/step\n",
      "Epoch 8: Val Accuracy - 70.7228, Val MCC - 0.7000708566405719, Val F1 - 0.707703426176171, Val Recall - 0.707227555053642, Val Precision - 0.731785090045876\n",
      "517/517 [==============================] - 201s 388ms/step - loss: 0.8215 - accuracy: 0.7705 - val_loss: 1.1080 - val_accuracy: 0.7072 - lr: 0.0010\n",
      "Epoch 9/25\n",
      "111/111 [==============================] - 14s 122ms/step\n",
      "Epoch 9: Val Accuracy - 69.7064, Val MCC - 0.6898643993531078, Val F1 - 0.6998732007474335, Val Recall - 0.6970638057594579, Val Precision - 0.7283980933067875\n",
      "517/517 [==============================] - 201s 389ms/step - loss: 0.6605 - accuracy: 0.8111 - val_loss: 1.1621 - val_accuracy: 0.6971 - lr: 0.0010\n",
      "Epoch 10/25\n",
      "517/517 [==============================] - ETA: 0s - loss: 0.5177 - accuracy: 0.8506\n",
      "Epoch 10: ReduceLROnPlateau reducing learning rate to 0.0007500000356230885.\n",
      "111/111 [==============================] - 13s 121ms/step\n",
      "Epoch 10: Val Accuracy - 69.0853, Val MCC - 0.683392345632742, Val F1 - 0.69421328656383, Val Recall - 0.6908526256352343, Val Precision - 0.7242248321023542\n",
      "517/517 [==============================] - 202s 392ms/step - loss: 0.5177 - accuracy: 0.8506 - val_loss: 1.2368 - val_accuracy: 0.6909 - lr: 0.0010\n",
      "Epoch 11/25\n",
      "111/111 [==============================] - 13s 120ms/step\n",
      "Epoch 11: Val Accuracy - 76.8775, Val MCC - 0.7628463327538535, Val F1 - 0.7699880119084538, Val Recall - 0.7687747035573123, Val Precision - 0.7797652659270681\n",
      "517/517 [==============================] - 200s 388ms/step - loss: 0.3053 - accuracy: 0.9109 - val_loss: 0.9377 - val_accuracy: 0.7688 - lr: 7.5000e-04\n",
      "Epoch 12/25\n",
      "111/111 [==============================] - 13s 121ms/step\n",
      "Epoch 12: Val Accuracy - 76.9057, Val MCC - 0.7632801869958499, Val F1 - 0.7717699324400877, Val Recall - 0.7690570299265952, Val Precision - 0.7861897835061793\n",
      "517/517 [==============================] - 199s 386ms/step - loss: 0.2368 - accuracy: 0.9284 - val_loss: 0.9505 - val_accuracy: 0.7691 - lr: 7.5000e-04\n",
      "Epoch 13/25\n",
      "517/517 [==============================] - ETA: 0s - loss: 0.1882 - accuracy: 0.9417\n",
      "Epoch 13: ReduceLROnPlateau reducing learning rate to 0.0005625000048894435.\n",
      "111/111 [==============================] - 18s 159ms/step\n",
      "Epoch 13: Val Accuracy - 78.0915, Val MCC - 0.7752726343410582, Val F1 - 0.781011969370417, Val Recall - 0.7809147374364765, Val Precision - 0.7902992856299181\n",
      "517/517 [==============================] - 218s 423ms/step - loss: 0.1882 - accuracy: 0.9417 - val_loss: 0.9384 - val_accuracy: 0.7809 - lr: 7.5000e-04\n",
      "Epoch 14/25\n",
      "111/111 [==============================] - 13s 122ms/step\n",
      "Epoch 14: Val Accuracy - 80.3219, Val MCC - 0.7980803127306214, Val F1 - 0.8038252544531209, Val Recall - 0.8032185206098249, Val Precision - 0.8094650139335511\n",
      "517/517 [==============================] - 202s 391ms/step - loss: 0.1198 - accuracy: 0.9646 - val_loss: 0.8583 - val_accuracy: 0.8032 - lr: 5.6250e-04\n",
      "Epoch 15/25\n",
      "111/111 [==============================] - 13s 115ms/step\n",
      "Epoch 15: Val Accuracy - 80.1242, Val MCC - 0.7960956870864936, Val F1 - 0.8009880221385831, Val Recall - 0.8012422360248447, Val Precision - 0.8064003298167526\n",
      "517/517 [==============================] - 197s 381ms/step - loss: 0.0848 - accuracy: 0.9752 - val_loss: 0.8686 - val_accuracy: 0.8012 - lr: 5.6250e-04\n",
      "Epoch 16/25\n",
      "517/517 [==============================] - ETA: 0s - loss: 0.1057 - accuracy: 0.9663\n",
      "Epoch 16: ReduceLROnPlateau reducing learning rate to 0.0004218749818392098.\n",
      "111/111 [==============================] - 16s 144ms/step\n",
      "Epoch 16: Val Accuracy - 80.9994, Val MCC - 0.8050612637117781, Val F1 - 0.8108339223030843, Val Recall - 0.8099943534726144, Val Precision - 0.8181915268728037\n",
      "517/517 [==============================] - 225s 435ms/step - loss: 0.1057 - accuracy: 0.9663 - val_loss: 0.8910 - val_accuracy: 0.8100 - lr: 5.6250e-04\n",
      "Epoch 17/25\n",
      "111/111 [==============================] - 13s 114ms/step\n",
      "Epoch 17: Val Accuracy - 82.2417, Val MCC - 0.8178526261211769, Val F1 - 0.8233672276338301, Val Recall - 0.8224167137210615, Val Precision - 0.8300988083158711\n",
      "517/517 [==============================] - 299s 579ms/step - loss: 0.0620 - accuracy: 0.9824 - val_loss: 0.8211 - val_accuracy: 0.8224 - lr: 4.2187e-04\n",
      "Epoch 18/25\n",
      "111/111 [==============================] - 13s 117ms/step\n",
      "Epoch 18: Val Accuracy - 81.9311, Val MCC - 0.814570328268567, Val F1 - 0.8193312736215015, Val Recall - 0.8193111236589498, Val Precision - 0.8224291325479\n",
      "517/517 [==============================] - 209s 405ms/step - loss: 0.0461 - accuracy: 0.9872 - val_loss: 0.8435 - val_accuracy: 0.8193 - lr: 4.2187e-04\n",
      "Epoch 19/25\n",
      "517/517 [==============================] - ETA: 0s - loss: 0.0489 - accuracy: 0.9850\n",
      "Epoch 19: ReduceLROnPlateau reducing learning rate to 0.00031640623637940735.\n",
      "111/111 [==============================] - 12s 112ms/step\n",
      "Epoch 19: Val Accuracy - 81.0559, Val MCC - 0.8057697378830471, Val F1 - 0.8102145923818236, Val Recall - 0.8105590062111802, Val Precision - 0.8193841841071559\n",
      "517/517 [==============================] - 196s 379ms/step - loss: 0.0489 - accuracy: 0.9850 - val_loss: 0.9215 - val_accuracy: 0.8106 - lr: 4.2187e-04\n",
      "Epoch 20/25\n",
      "111/111 [==============================] - 13s 114ms/step\n",
      "Epoch 20: Val Accuracy - 83.6815, Val MCC - 0.8325657115546544, Val F1 - 0.8377932402834001, Val Recall - 0.836815358554489, Val Precision - 0.8420029934990031\n",
      "517/517 [==============================] - 200s 386ms/step - loss: 0.0385 - accuracy: 0.9891 - val_loss: 0.8018 - val_accuracy: 0.8368 - lr: 3.1641e-04\n",
      "Epoch 21/25\n",
      "111/111 [==============================] - 14s 129ms/step\n",
      "Epoch 21: Val Accuracy - 83.1733, Val MCC - 0.8273453452570431, Val F1 - 0.8317015649648318, Val Recall - 0.831733483907397, Val Precision - 0.834759745378492\n",
      "517/517 [==============================] - 199s 385ms/step - loss: 0.0284 - accuracy: 0.9918 - val_loss: 0.8252 - val_accuracy: 0.8317 - lr: 3.1641e-04\n",
      "Epoch 22/25\n",
      "517/517 [==============================] - ETA: 0s - loss: 0.0289 - accuracy: 0.9923\n",
      "Epoch 22: ReduceLROnPlateau reducing learning rate to 0.00023730468819849193.\n",
      "111/111 [==============================] - 13s 118ms/step\n",
      "Epoch 22: Val Accuracy - 83.6815, Val MCC - 0.8325463751940985, Val F1 - 0.8372532807422448, Val Recall - 0.836815358554489, Val Precision - 0.8408165960309515\n",
      "517/517 [==============================] - 200s 386ms/step - loss: 0.0289 - accuracy: 0.9923 - val_loss: 0.8210 - val_accuracy: 0.8368 - lr: 3.1641e-04\n",
      "Epoch 23/25\n",
      "111/111 [==============================] - 13s 119ms/step\n",
      "Epoch 23: Val Accuracy - 84.3874, Val MCC - 0.8397931391972497, Val F1 - 0.8437646766703725, Val Recall - 0.8438735177865613, Val Precision - 0.8470983849388289\n",
      "517/517 [==============================] - 199s 384ms/step - loss: 0.0223 - accuracy: 0.9937 - val_loss: 0.8027 - val_accuracy: 0.8439 - lr: 2.3730e-04\n",
      "Epoch 24/25\n",
      "517/517 [==============================] - ETA: 0s - loss: 0.0201 - accuracy: 0.9942\n",
      "Epoch 24: ReduceLROnPlateau reducing learning rate to 0.00017797851614886895.\n",
      "111/111 [==============================] - 13s 119ms/step\n",
      "Epoch 24: Val Accuracy - 84.0486, Val MCC - 0.8362859924692435, Val F1 - 0.8405387500906211, Val Recall - 0.8404856013551666, Val Precision - 0.8429658766416233\n",
      "517/517 [==============================] - 202s 391ms/step - loss: 0.0201 - accuracy: 0.9942 - val_loss: 0.8393 - val_accuracy: 0.8405 - lr: 2.3730e-04\n",
      "Epoch 25/25\n",
      "111/111 [==============================] - 13s 115ms/step\n",
      "Epoch 25: Val Accuracy - 84.1615, Val MCC - 0.8375058231799694, Val F1 - 0.8419226083378649, Val Recall - 0.8416149068322981, Val Precision - 0.8462145485068543\n",
      "517/517 [==============================] - 203s 392ms/step - loss: 0.0167 - accuracy: 0.9955 - val_loss: 0.8058 - val_accuracy: 0.8416 - lr: 1.7798e-04\n"
     ]
    }
   ],
   "source": [
    "history = model.fit(\n",
    "    train_generator,\n",
    "    epochs=num_epochs,\n",
    "    validation_data=validation_generator,\n",
    "    callbacks=callbacks\n",
    ")"
   ]
  },
  {
   "cell_type": "code",
   "execution_count": 21,
   "metadata": {},
   "outputs": [],
   "source": [
    "model.save('output/models/model_4.keras')\n",
    "with open('output/history/history_model_4.pkl', 'wb') as f:\n",
    "    pickle.dump(history.history, f)"
   ]
  },
  {
   "cell_type": "code",
   "execution_count": 25,
   "metadata": {},
   "outputs": [
    {
     "data": {
      "image/png": "[encoded data removed]",
      "text/plain": [
       "<Figure size 600x600 with 1 Axes>"
      ]
     },
     "metadata": {},
     "output_type": "display_data"
    }
   ],
   "source": [
    "plt.figure(figsize=(6, 6))\n",
    "plt.plot(range(1, len(val_f1_list) + 1), val_f1_list, label='Validation F1 Score')\n",
    "plt.plot(range(1, len(val_recall_list) + 1), val_recall_list, label='Validation Recall')\n",
    "plt.plot(range(1, len(val_precision_list) + 1), val_precision_list, label='Validation Precision')\n",
    "plt.plot(range(1, len(val_mcc_list) + 1), val_mcc_list, label='Validation MCC')\n",
    "plt.title(f'Training and validation metrics')\n",
    "plt.xlabel('Epoch')\n",
    "plt.ylim(0, 1)\n",
    "plt.legend()\n",
    "plt.show()"
   ]
  },
  {
   "cell_type": "code",
   "execution_count": 26,
   "metadata": {},
   "outputs": [
    {
     "name": "stdout",
     "output_type": "stream",
     "text": [
      "0.8419226083378649\n",
      "0.8416149068322981\n",
      "0.8462145485068543\n",
      "0.8375058231799694\n"
     ]
    }
   ],
   "source": [
    "print(val_f1_list[-1])\n",
    "print(val_recall_list[-1])\n",
    "print(val_precision_list[-1])\n",
    "print(val_mcc_list[-1])"
   ]
  },
  {
   "cell_type": "code",
   "execution_count": 18,
   "metadata": {},
   "outputs": [
    {
     "data": {
      "image/png": "[encoded data removed]",
      "text/plain": [
       "<Figure size 1400x600 with 2 Axes>"
      ]
     },
     "metadata": {},
     "output_type": "display_data"
    }
   ],
   "source": [
    "plt.figure(figsize=(14, 6))\n",
    "\n",
    "plt.subplot(1, 2, 1)\n",
    "plt.plot(history.history['accuracy'], label='Training Accuracy')\n",
    "plt.plot(history.history['val_accuracy'], label='Validation Accuracy')\n",
    "plt.title('Accuracy over epochs')\n",
    "plt.ylabel('Accuracy')\n",
    "plt.xlabel('Epoch')\n",
    "plt.legend(loc='best')\n",
    "\n",
    "plt.subplot(1, 2, 2)\n",
    "plt.plot(history.history['loss'], label='Training Loss')\n",
    "plt.plot(history.history['val_loss'], label='Validation Loss')\n",
    "plt.title('Loss over epochs')\n",
    "plt.ylabel('Loss')\n",
    "plt.xlabel('Epoch')\n",
    "plt.legend(loc='best')\n",
    "\n",
    "plt.tight_layout()\n",
    "plt.show()"
   ]
  },
  {
   "cell_type": "code",
   "execution_count": 19,
   "metadata": {},
   "outputs": [
    {
     "name": "stdout",
     "output_type": "stream",
     "text": [
      "111/111 [==============================] - 17s 134ms/step - loss: 0.7076 - accuracy: 0.8584\n",
      "Test accuracy: 85.8352%\n",
      "Test loss: 0.7075775265693665\n"
     ]
    }
   ],
   "source": [
    "loaded_model = load_model('./output/models/model_4.keras')\n",
    "test_loss, test_acc = loaded_model.evaluate(test_generator)\n",
    "print('Test accuracy: {}%'.format(round(test_acc * 100, 4)))\n",
    "print('Test loss: {}'.format(test_loss))"
   ]
  },
  {
   "cell_type": "code",
   "execution_count": 20,
   "metadata": {},
   "outputs": [
    {
     "name": "stdout",
     "output_type": "stream",
     "text": [
      "111/111 [==============================] - 15s 120ms/step\n"
     ]
    },
    {
     "data": {
      "text/html": [
       "<div>\n",
       "<style scoped>\n",
       "    .dataframe tbody tr th:only-of-type {\n",
       "        vertical-align: middle;\n",
       "    }\n",
       "\n",
       "    .dataframe tbody tr th {\n",
       "        vertical-align: top;\n",
       "    }\n",
       "\n",
       "    .dataframe thead th {\n",
       "        text-align: right;\n",
       "    }\n",
       "</style>\n",
       "<table border=\"1\" class=\"dataframe\">\n",
       "  <thead>\n",
       "    <tr style=\"text-align: right;\">\n",
       "      <th></th>\n",
       "      <th>File</th>\n",
       "      <th>Predicted Class</th>\n",
       "      <th>Probability</th>\n",
       "    </tr>\n",
       "  </thead>\n",
       "  <tbody>\n",
       "    <tr>\n",
       "      <th>0</th>\n",
       "      <td>./melspectrogram4_dataset/57afd87f-c9de-4a1b-a...</td>\n",
       "      <td>linspa</td>\n",
       "      <td>0.682669</td>\n",
       "    </tr>\n",
       "    <tr>\n",
       "      <th>1</th>\n",
       "      <td>./melspectrogram4_dataset/b868f7b2-5a17-42dd-b...</td>\n",
       "      <td>logshr</td>\n",
       "      <td>0.999995</td>\n",
       "    </tr>\n",
       "    <tr>\n",
       "      <th>2</th>\n",
       "      <td>./melspectrogram4_dataset/9f8c81d2-d488-4bc2-9...</td>\n",
       "      <td>pinwar</td>\n",
       "      <td>0.821471</td>\n",
       "    </tr>\n",
       "    <tr>\n",
       "      <th>3</th>\n",
       "      <td>./melspectrogram4_dataset/e87c105c-f44d-4e7e-9...</td>\n",
       "      <td>comter</td>\n",
       "      <td>0.969563</td>\n",
       "    </tr>\n",
       "    <tr>\n",
       "      <th>4</th>\n",
       "      <td>./melspectrogram4_dataset/c168fd0f-8ada-49cd-8...</td>\n",
       "      <td>gockin</td>\n",
       "      <td>0.999988</td>\n",
       "    </tr>\n",
       "  </tbody>\n",
       "</table>\n",
       "</div>"
      ],
      "text/plain": [
       "                                                File Predicted Class  \\\n",
       "0  ./melspectrogram4_dataset/57afd87f-c9de-4a1b-a...          linspa   \n",
       "1  ./melspectrogram4_dataset/b868f7b2-5a17-42dd-b...          logshr   \n",
       "2  ./melspectrogram4_dataset/9f8c81d2-d488-4bc2-9...          pinwar   \n",
       "3  ./melspectrogram4_dataset/e87c105c-f44d-4e7e-9...          comter   \n",
       "4  ./melspectrogram4_dataset/c168fd0f-8ada-49cd-8...          gockin   \n",
       "\n",
       "   Probability  \n",
       "0     0.682669  \n",
       "1     0.999995  \n",
       "2     0.821471  \n",
       "3     0.969563  \n",
       "4     0.999988  "
      ]
     },
     "execution_count": 20,
     "metadata": {},
     "output_type": "execute_result"
    }
   ],
   "source": [
    "predictions = loaded_model.predict(test_generator)\n",
    "\n",
    "class_labels = list(test_generator.class_indices.keys())\n",
    "file_names = test_generator.filenames\n",
    "\n",
    "results_list = []\n",
    "\n",
    "for i in range(len(file_names)):\n",
    "    file_name = file_names[i]\n",
    "    predicted_class_index = predictions[i].argmax()\n",
    "    predicted_class = class_labels[predicted_class_index]\n",
    "    probability = predictions[i][predicted_class_index]\n",
    "    results_list.append({'File': file_name,\n",
    "                         'Predicted Class': predicted_class,\n",
    "                         'Probability': probability})\n",
    "\n",
    "results_df = pd.DataFrame(results_list)\n",
    "\n",
    "results_df.head()"
   ]
  }
 ],
 "metadata": {
  "kernelspec": {
   "display_name": "base",
   "language": "python",
   "name": "python3"
  },
  "language_info": {
   "codemirror_mode": {
    "name": "ipython",
    "version": 3
   },
   "file_extension": ".py",
   "mimetype": "text/x-python",
   "name": "python",
   "nbconvert_exporter": "python",
   "pygments_lexer": "ipython3",
   "version": "3.9.19"
  }
 },
 "nbformat": 4,
 "nbformat_minor": 2
}
