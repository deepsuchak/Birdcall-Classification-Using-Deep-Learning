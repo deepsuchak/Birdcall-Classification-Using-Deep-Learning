{
 "cells": [
  {
   "cell_type": "code",
   "execution_count": 1,
   "metadata": {},
   "outputs": [],
   "source": [
    "import os\n",
    "import numpy as np\n",
    "import matplotlib.pyplot as plt\n",
    "import librosa"
   ]
  },
  {
   "cell_type": "code",
   "execution_count": 2,
   "metadata": {},
   "outputs": [],
   "source": [
    "def visualize_mel_spectrogram(mel_spectrogram, save_path):\n",
    "    plt.figure(figsize=(10, 5))\n",
    "    librosa.display.specshow(mel_spectrogram, y_axis='mel', fmax=8000, x_axis='time')\n",
    "    plt.axis('off')\n",
    "    plt.savefig(save_path, bbox_inches='tight', pad_inches=0)\n",
    "    plt.close()\n",
    "\n",
    "def preprocess_to_mel_spectogram(file_path, save_dir):\n",
    "    target_shape = (224, 224)\n",
    "    audio, sample_rate = librosa.load(file_path)\n",
    "    mel_spectrogram = librosa.feature.melspectrogram(y=audio, sr=sample_rate)\n",
    "    mel_spectrogram = librosa.power_to_db(mel_spectrogram, ref=np.max)\n",
    "    mel_spectrogram = (mel_spectrogram - np.min(mel_spectrogram)) / (np.max(mel_spectrogram) - np.min(mel_spectrogram))\n",
    "    mel_spectrogram = np.resize(mel_spectrogram, target_shape)\n",
    "    subfolder_path = os.path.join(save_dir, os.path.basename(os.path.dirname(file_path)))\n",
    "    os.makedirs(subfolder_path, exist_ok=True)\n",
    "    save_name = os.path.join(subfolder_path, os.path.splitext(os.path.basename(file_path))[0] + '.png')\n",
    "    visualize_mel_spectrogram(mel_spectrogram, save_name)"
   ]
  },
  {
   "cell_type": "code",
   "execution_count": 3,
   "metadata": {},
   "outputs": [],
   "source": [
    "train_audio_path = \"./train_audio/\"\n",
    "target_image_path = \"./train_mel_spectogram_images/\"\n",
    "\n",
    "for root, _, files in os.walk(train_audio_path):\n",
    "        for file in files:\n",
    "            if file.endswith('.mp3'):\n",
    "                file_path = os.path.join(root, file)\n",
    "                preprocess_to_mel_spectogram(file_path, target_image_path)"
   ]
  },
  {
   "cell_type": "code",
   "execution_count": 4,
   "metadata": {},
   "outputs": [
    {
     "data": {
      "image/png": "[encoded data removed]",
      "text/plain": [
       "<Figure size 1000x500 with 1 Axes>"
      ]
     },
     "metadata": {},
     "output_type": "display_data"
    }
   ],
   "source": [
    "file_path = './train_audio/woothr/XC162079.mp3'\n",
    "target_shape = (224, 224)\n",
    "audio, sample_rate = librosa.load(file_path)\n",
    "mel_spectrogram = librosa.feature.melspectrogram(y=audio, sr=sample_rate)\n",
    "mel_spectrogram = librosa.power_to_db(mel_spectrogram, ref=np.max)\n",
    "mel_spectrogram = (mel_spectrogram - np.min(mel_spectrogram)) / (np.max(mel_spectrogram) - np.min(mel_spectrogram))\n",
    "mel_spectrogram = np.resize(mel_spectrogram, target_shape)\n",
    "\n",
    "plt.figure(figsize=(10, 5))\n",
    "librosa.display.specshow(mel_spectrogram, y_axis='mel', fmax=8000, x_axis='time')\n",
    "plt.axis('off')\n",
    "plt.show()"
   ]
  }
 ],
 "metadata": {
  "kernelspec": {
   "display_name": "base",
   "language": "python",
   "name": "python3"
  },
  "language_info": {
   "codemirror_mode": {
    "name": "ipython",
    "version": 3
   },
   "file_extension": ".py",
   "mimetype": "text/x-python",
   "name": "python",
   "nbconvert_exporter": "python",
   "pygments_lexer": "ipython3",
   "version": "3.11.7"
  }
 },
 "nbformat": 4,
 "nbformat_minor": 2
}
