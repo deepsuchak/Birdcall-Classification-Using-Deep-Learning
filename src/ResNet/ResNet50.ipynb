{
 "cells": [
  {
   "cell_type": "code",
   "execution_count": 23,
   "id": "fad9b58b",
   "metadata": {},
   "outputs": [],
   "source": [
    "import os\n",
    "import numpy as np\n",
    "from PIL import Image  # Import the Image module\n",
    "from tqdm import tqdm\n",
    "import torch\n",
    "import torch.nn as nn\n",
    "import torch.optim as optim\n",
    "from torchvision import models, transforms\n",
    "from torch.utils.data import DataLoader, Dataset\n",
    "from sklearn.metrics import accuracy_score\n",
    "from sklearn.model_selection import train_test_split\n",
    "from sklearn.preprocessing import LabelEncoder\n",
    "from sklearn.model_selection import StratifiedKFold\n",
    "from sklearn.metrics import accuracy_score, precision_score, recall_score, f1_score, matthews_corrcoef, confusion_matrix, ConfusionMatrixDisplay\n",
    "import matplotlib.pyplot as plt\n",
    "import seaborn as sns\n",
    "from tabulate import tabulate"
   ]
  },
  {
   "cell_type": "code",
   "execution_count": 3,
   "id": "d35f7f21",
   "metadata": {},
   "outputs": [
    {
     "data": {
      "text/plain": [
       "device(type='cuda')"
      ]
     },
     "execution_count": 3,
     "metadata": {},
     "output_type": "execute_result"
    }
   ],
   "source": [
    "device = torch.device('cuda' if torch.cuda.is_available() else 'cpu')\n",
    "device"
   ]
  },
  {
   "cell_type": "code",
   "execution_count": 4,
   "id": "0f273072",
   "metadata": {},
   "outputs": [],
   "source": [
    "class CustomDataset(Dataset):\n",
    "    def __init__(self, file_paths, labels, transform=None):\n",
    "        self.file_paths = file_paths\n",
    "        self.labels = labels\n",
    "        self.transform = transform\n",
    "\n",
    "    def __len__(self):\n",
    "        return len(self.file_paths)\n",
    "\n",
    "    def __getitem__(self, idx):\n",
    "        image_path = self.file_paths[idx]\n",
    "        # Load the image\n",
    "        image = Image.open(image_path).convert('RGB')\n",
    "        label = self.labels[idx]\n",
    "        \n",
    "        # Apply transformations if specified\n",
    "        if self.transform:\n",
    "            image = self.transform(image)\n",
    "\n",
    "        return image, label\n"
   ]
  },
  {
   "cell_type": "code",
   "execution_count": 5,
   "id": "394fd4aa",
   "metadata": {},
   "outputs": [],
   "source": [
    "# Define data preprocessing function\n",
    "def preprocess_image(image):\n",
    "    # Implement image preprocessing (resize, normalization, augmentation)\n",
    "    transform = transforms.Compose([\n",
    "        transforms.Resize((224, 224)),\n",
    "        transforms.ToTensor(),\n",
    "        transforms.Normalize(mean=[0.485, 0.456, 0.406], std=[0.229, 0.224, 0.225]),\n",
    "        # Add more augmentation techniques here if needed\n",
    "    ])\n",
    "    return transform(image)\n"
   ]
  },
  {
   "cell_type": "code",
   "execution_count": 6,
   "id": "bd41a5f0",
   "metadata": {
    "scrolled": true
   },
   "outputs": [],
   "source": [
    "# Define dataset directory\n",
    "dataset_dir = \"./train_mel_spectogram_images\"\n",
    "\n",
    "# Initialize lists to store file paths and labels\n",
    "file_paths = []\n",
    "labels = []\n",
    "\n",
    "# Convert file_paths into a Python list\n",
    "# file_paths = file_paths.tolist()"
   ]
  },
  {
   "cell_type": "code",
   "execution_count": 7,
   "id": "3de7759b",
   "metadata": {
    "scrolled": true
   },
   "outputs": [],
   "source": [
    "# Traverse through each subfolder in the dataset directory\n",
    "for label in os.listdir(dataset_dir):\n",
    "    label_dir = os.path.join(dataset_dir, label)\n",
    "    if os.path.isdir(label_dir):\n",
    "        # For each image file in the subfolder, append its path to file_paths\n",
    "        for filename in os.listdir(label_dir):\n",
    "            image_path = os.path.join(label_dir, filename)\n",
    "            file_paths.append(image_path)"
   ]
  },
  {
   "cell_type": "code",
   "execution_count": 9,
   "id": "5f3deeac",
   "metadata": {
    "scrolled": false
   },
   "outputs": [],
   "source": [
    "# Initialize an empty list to store labels\n",
    "label_list = []\n",
    "\n",
    "# Loop through file paths to extract labels\n",
    "for file_path in file_paths:\n",
    "    # Extract label from file path (modify this based on your file naming convention)\n",
    "    label = file_path.split(\"\\\\\")[-2]  # Use \"\\\\\" for Windows-style file paths\n",
    "    label_list.append(label)\n",
    "\n",
    "# # Print the extracted labels and their dimensions\n",
    "# print(\"Extracted Labels:\", label_list)\n",
    "# print(\"Label List Dimensions:\", len(label_list))\n",
    "\n",
    "# Initialize LabelEncoder\n",
    "label_encoder = LabelEncoder()\n",
    "\n",
    "# Fit the encoder to the labels and transform the labels to numerical values\n",
    "encoded_labels = label_encoder.fit_transform(label_list)\n",
    "\n",
    "# Convert the list of encoded labels to a tensor\n",
    "labels = torch.tensor(encoded_labels, dtype=torch.long)\n",
    "labels = [label.item() for label in labels]"
   ]
  },
  {
   "cell_type": "code",
   "execution_count": 10,
   "id": "c9d12836",
   "metadata": {},
   "outputs": [],
   "source": [
    "# Convert lists to numpy arrays\n",
    "file_paths = np.array(file_paths)\n",
    "labels = torch.tensor(labels, dtype=torch.long)"
   ]
  },
  {
   "cell_type": "code",
   "execution_count": 11,
   "id": "0d7c5d45",
   "metadata": {},
   "outputs": [],
   "source": [
    "# Define transformations\n",
    "transform = transforms.Compose([\n",
    "    transforms.Resize((224, 224)),  # Resize images to (224, 224)\n",
    "    transforms.ToTensor(),           # Convert images to PyTorch tensors\n",
    "    transforms.Normalize(mean=[0.485, 0.456, 0.406], std=[0.229, 0.224, 0.225])  # Normalize images\n",
    "])"
   ]
  },
  {
   "cell_type": "code",
   "execution_count": 12,
   "id": "de0987ad",
   "metadata": {
    "scrolled": true
   },
   "outputs": [],
   "source": [
    "# Split the dataset into training and validation sets\n",
    "train_file_paths, val_file_paths, train_labels, val_labels = train_test_split(file_paths, labels, test_size=0.2, random_state=42)\n",
    "\n",
    "# Create training and validation datasets\n",
    "train_dataset = CustomDataset(train_file_paths, train_labels, transform=transform)\n",
    "val_dataset = CustomDataset(val_file_paths, val_labels, transform=transform)\n",
    "\n",
    "# Create dataloaders for training and validation\n",
    "train_loader = DataLoader(train_dataset, batch_size=32, shuffle=True)\n",
    "val_loader = DataLoader(val_dataset, batch_size=32, shuffle=False)"
   ]
  },
  {
   "cell_type": "code",
   "execution_count": 13,
   "id": "c2a875bb",
   "metadata": {},
   "outputs": [],
   "source": [
    "# Define ResNet50 model with modifications\n",
    "class ModifiedResNet50(nn.Module):\n",
    "    def __init__(self, num_classes):\n",
    "        super(ModifiedResNet50, self).__init__()\n",
    "        self.resnet50 = models.resnet50(weights='ResNet50_Weights.IMAGENET1K_V1')\n",
    "        # Modify the fully connected layer\n",
    "        num_ftrs = self.resnet50.fc.in_features\n",
    "        self.resnet50.fc = nn.Sequential(\n",
    "            nn.Linear(num_ftrs, 1024),\n",
    "            nn.ReLU(),\n",
    "            nn.Dropout(0.5),\n",
    "            nn.Linear(1024, num_classes)\n",
    "        )\n",
    "\n",
    "    def forward(self, x):\n",
    "        return self.resnet50(x)"
   ]
  },
  {
   "cell_type": "code",
   "execution_count": 14,
   "id": "ebb839c3",
   "metadata": {},
   "outputs": [
    {
     "name": "stdout",
     "output_type": "stream",
     "text": [
      "40\n"
     ]
    }
   ],
   "source": [
    "num_classes = 0\n",
    "for item in os.listdir('./train_mel_spectogram_images'):\n",
    "        if os.path.isdir(os.path.join('./train_mel_spectogram_images', item)):\n",
    "            num_classes += 1\n",
    "print(num_classes)\n",
    "model = ModifiedResNet50(num_classes=num_classes).to(device)"
   ]
  },
  {
   "cell_type": "code",
   "execution_count": 15,
   "id": "20171eb2",
   "metadata": {},
   "outputs": [],
   "source": [
    "# Define loss function and optimizer\n",
    "criterion = nn.CrossEntropyLoss()\n",
    "optimizer = optim.Adam(model.parameters(), lr=0.001)"
   ]
  },
  {
   "cell_type": "code",
   "execution_count": 17,
   "id": "89d84dc9",
   "metadata": {},
   "outputs": [
    {
     "name": "stdout",
     "output_type": "stream",
     "text": [
      "Fold 1/5\n",
      "\n",
      "Epoch 1/30\n"
     ]
    },
    {
     "name": "stderr",
     "output_type": "stream",
     "text": [
      "100%|██████████| 62/62 [00:31<00:00,  1.94it/s]\n",
      "100%|██████████| 16/16 [00:05<00:00,  2.79it/s]\n"
     ]
    },
    {
     "name": "stdout",
     "output_type": "stream",
     "text": [
      "Training Accuracy: 2.18%, Validation Accuracy: 2.63%\n",
      "Epoch 2/30\n"
     ]
    },
    {
     "name": "stderr",
     "output_type": "stream",
     "text": [
      "100%|██████████| 62/62 [00:28<00:00,  2.18it/s]\n",
      "100%|██████████| 16/16 [00:04<00:00,  3.21it/s]\n"
     ]
    },
    {
     "name": "stdout",
     "output_type": "stream",
     "text": [
      "Training Accuracy: 2.69%, Validation Accuracy: 3.64%\n",
      "Epoch 3/30\n"
     ]
    },
    {
     "name": "stderr",
     "output_type": "stream",
     "text": [
      "100%|██████████| 62/62 [00:28<00:00,  2.18it/s]\n",
      "100%|██████████| 16/16 [00:04<00:00,  3.25it/s]\n"
     ]
    },
    {
     "name": "stdout",
     "output_type": "stream",
     "text": [
      "Training Accuracy: 3.50%, Validation Accuracy: 3.44%\n",
      "Epoch 4/30\n"
     ]
    },
    {
     "name": "stderr",
     "output_type": "stream",
     "text": [
      "100%|██████████| 62/62 [00:28<00:00,  2.16it/s]\n",
      "100%|██████████| 16/16 [00:04<00:00,  3.21it/s]\n"
     ]
    },
    {
     "name": "stdout",
     "output_type": "stream",
     "text": [
      "Training Accuracy: 3.45%, Validation Accuracy: 3.44%\n",
      "Epoch 5/30\n"
     ]
    },
    {
     "name": "stderr",
     "output_type": "stream",
     "text": [
      "100%|██████████| 62/62 [00:28<00:00,  2.16it/s]\n",
      "100%|██████████| 16/16 [00:04<00:00,  3.23it/s]\n"
     ]
    },
    {
     "name": "stdout",
     "output_type": "stream",
     "text": [
      "Training Accuracy: 2.99%, Validation Accuracy: 4.25%\n",
      "Epoch 6/30\n"
     ]
    },
    {
     "name": "stderr",
     "output_type": "stream",
     "text": [
      "100%|██████████| 62/62 [00:28<00:00,  2.14it/s]\n",
      "100%|██████████| 16/16 [00:05<00:00,  3.17it/s]\n"
     ]
    },
    {
     "name": "stdout",
     "output_type": "stream",
     "text": [
      "Training Accuracy: 3.85%, Validation Accuracy: 3.64%\n",
      "Epoch 7/30\n"
     ]
    },
    {
     "name": "stderr",
     "output_type": "stream",
     "text": [
      "100%|██████████| 62/62 [00:29<00:00,  2.13it/s]\n",
      "100%|██████████| 16/16 [00:04<00:00,  3.21it/s]\n"
     ]
    },
    {
     "name": "stdout",
     "output_type": "stream",
     "text": [
      "Training Accuracy: 3.90%, Validation Accuracy: 3.24%\n",
      "Epoch 8/30\n"
     ]
    },
    {
     "name": "stderr",
     "output_type": "stream",
     "text": [
      "100%|██████████| 62/62 [00:28<00:00,  2.15it/s]\n",
      "100%|██████████| 16/16 [00:05<00:00,  3.15it/s]\n"
     ]
    },
    {
     "name": "stdout",
     "output_type": "stream",
     "text": [
      "Training Accuracy: 3.80%, Validation Accuracy: 3.64%\n",
      "Epoch 9/30\n"
     ]
    },
    {
     "name": "stderr",
     "output_type": "stream",
     "text": [
      "100%|██████████| 62/62 [00:28<00:00,  2.15it/s]\n",
      "100%|██████████| 16/16 [00:05<00:00,  2.83it/s]\n"
     ]
    },
    {
     "name": "stdout",
     "output_type": "stream",
     "text": [
      "Training Accuracy: 4.11%, Validation Accuracy: 3.85%\n",
      "Epoch 10/30\n"
     ]
    },
    {
     "name": "stderr",
     "output_type": "stream",
     "text": [
      "100%|██████████| 62/62 [00:30<00:00,  2.05it/s]\n",
      "100%|██████████| 16/16 [00:05<00:00,  2.71it/s]\n"
     ]
    },
    {
     "name": "stdout",
     "output_type": "stream",
     "text": [
      "Training Accuracy: 4.51%, Validation Accuracy: 3.85%\n",
      "Epoch 11/30\n"
     ]
    },
    {
     "name": "stderr",
     "output_type": "stream",
     "text": [
      "100%|██████████| 62/62 [00:29<00:00,  2.10it/s]\n",
      "100%|██████████| 16/16 [00:05<00:00,  2.89it/s]\n"
     ]
    },
    {
     "name": "stdout",
     "output_type": "stream",
     "text": [
      "Training Accuracy: 4.77%, Validation Accuracy: 4.05%\n",
      "Epoch 12/30\n"
     ]
    },
    {
     "name": "stderr",
     "output_type": "stream",
     "text": [
      "100%|██████████| 62/62 [00:28<00:00,  2.14it/s]\n",
      "100%|██████████| 16/16 [00:05<00:00,  2.80it/s]\n"
     ]
    },
    {
     "name": "stdout",
     "output_type": "stream",
     "text": [
      "Training Accuracy: 4.26%, Validation Accuracy: 4.86%\n",
      "Epoch 13/30\n"
     ]
    },
    {
     "name": "stderr",
     "output_type": "stream",
     "text": [
      "100%|██████████| 62/62 [00:29<00:00,  2.08it/s]\n",
      "100%|██████████| 16/16 [00:05<00:00,  2.70it/s]\n"
     ]
    },
    {
     "name": "stdout",
     "output_type": "stream",
     "text": [
      "Training Accuracy: 4.11%, Validation Accuracy: 3.44%\n",
      "Epoch 14/30\n"
     ]
    },
    {
     "name": "stderr",
     "output_type": "stream",
     "text": [
      "100%|██████████| 62/62 [00:36<00:00,  1.72it/s]\n",
      "100%|██████████| 16/16 [00:07<00:00,  2.22it/s]\n"
     ]
    },
    {
     "name": "stdout",
     "output_type": "stream",
     "text": [
      "Training Accuracy: 4.67%, Validation Accuracy: 4.05%\n",
      "Epoch 15/30\n"
     ]
    },
    {
     "name": "stderr",
     "output_type": "stream",
     "text": [
      "100%|██████████| 62/62 [00:44<00:00,  1.38it/s]\n",
      "100%|██████████| 16/16 [00:07<00:00,  2.25it/s]\n"
     ]
    },
    {
     "name": "stdout",
     "output_type": "stream",
     "text": [
      "Training Accuracy: 4.92%, Validation Accuracy: 3.44%\n",
      "Epoch 16/30\n"
     ]
    },
    {
     "name": "stderr",
     "output_type": "stream",
     "text": [
      "100%|██████████| 62/62 [00:42<00:00,  1.47it/s]\n",
      "100%|██████████| 16/16 [00:07<00:00,  2.21it/s]\n"
     ]
    },
    {
     "name": "stdout",
     "output_type": "stream",
     "text": [
      "Training Accuracy: 5.27%, Validation Accuracy: 3.85%\n",
      "Epoch 17/30\n"
     ]
    },
    {
     "name": "stderr",
     "output_type": "stream",
     "text": [
      "100%|██████████| 62/62 [00:43<00:00,  1.44it/s]\n",
      "100%|██████████| 16/16 [00:07<00:00,  2.23it/s]\n"
     ]
    },
    {
     "name": "stdout",
     "output_type": "stream",
     "text": [
      "Training Accuracy: 4.61%, Validation Accuracy: 3.44%\n",
      "Epoch 18/30\n"
     ]
    },
    {
     "name": "stderr",
     "output_type": "stream",
     "text": [
      "100%|██████████| 62/62 [00:43<00:00,  1.43it/s]\n",
      "100%|██████████| 16/16 [00:07<00:00,  2.27it/s]\n"
     ]
    },
    {
     "name": "stdout",
     "output_type": "stream",
     "text": [
      "Training Accuracy: 5.32%, Validation Accuracy: 3.04%\n",
      "Epoch 19/30\n"
     ]
    },
    {
     "name": "stderr",
     "output_type": "stream",
     "text": [
      "100%|██████████| 62/62 [00:43<00:00,  1.43it/s]\n",
      "100%|██████████| 16/16 [00:06<00:00,  2.29it/s]\n"
     ]
    },
    {
     "name": "stdout",
     "output_type": "stream",
     "text": [
      "Training Accuracy: 4.82%, Validation Accuracy: 3.24%\n",
      "Epoch 20/30\n"
     ]
    },
    {
     "name": "stderr",
     "output_type": "stream",
     "text": [
      "100%|██████████| 62/62 [00:43<00:00,  1.43it/s]\n",
      "100%|██████████| 16/16 [00:06<00:00,  2.33it/s]\n"
     ]
    },
    {
     "name": "stdout",
     "output_type": "stream",
     "text": [
      "Training Accuracy: 5.22%, Validation Accuracy: 4.05%\n",
      "Epoch 21/30\n"
     ]
    },
    {
     "name": "stderr",
     "output_type": "stream",
     "text": [
      "100%|██████████| 62/62 [00:42<00:00,  1.45it/s]\n",
      "100%|██████████| 16/16 [00:06<00:00,  2.30it/s]\n"
     ]
    },
    {
     "name": "stdout",
     "output_type": "stream",
     "text": [
      "Training Accuracy: 5.68%, Validation Accuracy: 4.05%\n",
      "Epoch 22/30\n"
     ]
    },
    {
     "name": "stderr",
     "output_type": "stream",
     "text": [
      "100%|██████████| 62/62 [00:43<00:00,  1.44it/s]\n",
      "100%|██████████| 16/16 [00:07<00:00,  2.26it/s]\n"
     ]
    },
    {
     "name": "stdout",
     "output_type": "stream",
     "text": [
      "Training Accuracy: 5.07%, Validation Accuracy: 3.85%\n",
      "Epoch 23/30\n"
     ]
    },
    {
     "name": "stderr",
     "output_type": "stream",
     "text": [
      "100%|██████████| 62/62 [00:42<00:00,  1.45it/s]\n",
      "100%|██████████| 16/16 [00:06<00:00,  2.31it/s]\n"
     ]
    },
    {
     "name": "stdout",
     "output_type": "stream",
     "text": [
      "Training Accuracy: 5.83%, Validation Accuracy: 2.83%\n",
      "Epoch 24/30\n"
     ]
    },
    {
     "name": "stderr",
     "output_type": "stream",
     "text": [
      "100%|██████████| 62/62 [00:44<00:00,  1.41it/s]\n",
      "100%|██████████| 16/16 [00:06<00:00,  2.29it/s]\n"
     ]
    },
    {
     "name": "stdout",
     "output_type": "stream",
     "text": [
      "Training Accuracy: 5.48%, Validation Accuracy: 4.66%\n",
      "Epoch 25/30\n"
     ]
    },
    {
     "name": "stderr",
     "output_type": "stream",
     "text": [
      "100%|██████████| 62/62 [00:42<00:00,  1.45it/s]\n",
      "100%|██████████| 16/16 [00:06<00:00,  2.32it/s]\n"
     ]
    },
    {
     "name": "stdout",
     "output_type": "stream",
     "text": [
      "Training Accuracy: 7.05%, Validation Accuracy: 3.24%\n",
      "Epoch 26/30\n"
     ]
    },
    {
     "name": "stderr",
     "output_type": "stream",
     "text": [
      "100%|██████████| 62/62 [00:43<00:00,  1.44it/s]\n",
      "100%|██████████| 16/16 [00:07<00:00,  2.12it/s]\n"
     ]
    },
    {
     "name": "stdout",
     "output_type": "stream",
     "text": [
      "Training Accuracy: 6.39%, Validation Accuracy: 4.45%\n",
      "Epoch 27/30\n"
     ]
    },
    {
     "name": "stderr",
     "output_type": "stream",
     "text": [
      "100%|██████████| 62/62 [00:44<00:00,  1.41it/s]\n",
      "100%|██████████| 16/16 [00:06<00:00,  2.33it/s]\n"
     ]
    },
    {
     "name": "stdout",
     "output_type": "stream",
     "text": [
      "Training Accuracy: 6.09%, Validation Accuracy: 3.85%\n",
      "Epoch 28/30\n"
     ]
    },
    {
     "name": "stderr",
     "output_type": "stream",
     "text": [
      "100%|██████████| 62/62 [00:42<00:00,  1.45it/s]\n",
      "100%|██████████| 16/16 [00:06<00:00,  2.31it/s]\n"
     ]
    },
    {
     "name": "stdout",
     "output_type": "stream",
     "text": [
      "Training Accuracy: 6.74%, Validation Accuracy: 4.05%\n",
      "Epoch 29/30\n"
     ]
    },
    {
     "name": "stderr",
     "output_type": "stream",
     "text": [
      "100%|██████████| 62/62 [00:44<00:00,  1.40it/s]\n",
      "100%|██████████| 16/16 [00:07<00:00,  2.27it/s]\n"
     ]
    },
    {
     "name": "stdout",
     "output_type": "stream",
     "text": [
      "Training Accuracy: 6.19%, Validation Accuracy: 3.64%\n",
      "Epoch 30/30\n"
     ]
    },
    {
     "name": "stderr",
     "output_type": "stream",
     "text": [
      "100%|██████████| 62/62 [00:42<00:00,  1.47it/s]\n",
      "100%|██████████| 16/16 [00:07<00:00,  2.25it/s]\n"
     ]
    },
    {
     "name": "stdout",
     "output_type": "stream",
     "text": [
      "Training Accuracy: 6.59%, Validation Accuracy: 3.64%\n",
      "\n",
      "\n",
      "\n",
      "Fold 2/5\n",
      "\n",
      "Epoch 1/30\n"
     ]
    },
    {
     "name": "stderr",
     "output_type": "stream",
     "text": [
      "100%|██████████| 62/62 [00:43<00:00,  1.44it/s]\n",
      "100%|██████████| 16/16 [00:07<00:00,  2.17it/s]\n"
     ]
    },
    {
     "name": "stdout",
     "output_type": "stream",
     "text": [
      "Training Accuracy: 5.42%, Validation Accuracy: 5.88%\n",
      "Epoch 2/30\n"
     ]
    },
    {
     "name": "stderr",
     "output_type": "stream",
     "text": [
      "100%|██████████| 62/62 [00:43<00:00,  1.42it/s]\n",
      "100%|██████████| 16/16 [00:06<00:00,  2.34it/s]\n"
     ]
    },
    {
     "name": "stdout",
     "output_type": "stream",
     "text": [
      "Training Accuracy: 6.13%, Validation Accuracy: 4.67%\n",
      "Epoch 3/30\n"
     ]
    },
    {
     "name": "stderr",
     "output_type": "stream",
     "text": [
      "100%|██████████| 62/62 [00:43<00:00,  1.42it/s]\n",
      "100%|██████████| 16/16 [00:07<00:00,  2.23it/s]\n"
     ]
    },
    {
     "name": "stdout",
     "output_type": "stream",
     "text": [
      "Training Accuracy: 6.13%, Validation Accuracy: 5.27%\n",
      "Epoch 4/30\n"
     ]
    },
    {
     "name": "stderr",
     "output_type": "stream",
     "text": [
      "100%|██████████| 62/62 [00:43<00:00,  1.42it/s]\n",
      "100%|██████████| 16/16 [00:07<00:00,  2.27it/s]\n"
     ]
    },
    {
     "name": "stdout",
     "output_type": "stream",
     "text": [
      "Training Accuracy: 5.83%, Validation Accuracy: 5.48%\n",
      "Epoch 5/30\n"
     ]
    },
    {
     "name": "stderr",
     "output_type": "stream",
     "text": [
      "100%|██████████| 62/62 [00:42<00:00,  1.46it/s]\n",
      "100%|██████████| 16/16 [00:07<00:00,  2.16it/s]\n"
     ]
    },
    {
     "name": "stdout",
     "output_type": "stream",
     "text": [
      "Training Accuracy: 6.49%, Validation Accuracy: 4.67%\n",
      "Epoch 6/30\n"
     ]
    },
    {
     "name": "stderr",
     "output_type": "stream",
     "text": [
      "100%|██████████| 62/62 [00:51<00:00,  1.20it/s]\n",
      "100%|██████████| 16/16 [00:06<00:00,  2.35it/s]\n"
     ]
    },
    {
     "name": "stdout",
     "output_type": "stream",
     "text": [
      "Training Accuracy: 7.10%, Validation Accuracy: 5.68%\n",
      "Epoch 7/30\n"
     ]
    },
    {
     "name": "stderr",
     "output_type": "stream",
     "text": [
      "100%|██████████| 62/62 [00:43<00:00,  1.43it/s]\n",
      "100%|██████████| 16/16 [00:06<00:00,  2.29it/s]\n"
     ]
    },
    {
     "name": "stdout",
     "output_type": "stream",
     "text": [
      "Training Accuracy: 6.34%, Validation Accuracy: 4.87%\n",
      "Epoch 8/30\n"
     ]
    },
    {
     "name": "stderr",
     "output_type": "stream",
     "text": [
      "100%|██████████| 62/62 [00:43<00:00,  1.42it/s]\n",
      "100%|██████████| 16/16 [00:07<00:00,  2.24it/s]\n"
     ]
    },
    {
     "name": "stdout",
     "output_type": "stream",
     "text": [
      "Training Accuracy: 6.28%, Validation Accuracy: 4.26%\n",
      "Epoch 9/30\n"
     ]
    },
    {
     "name": "stderr",
     "output_type": "stream",
     "text": [
      "100%|██████████| 62/62 [00:42<00:00,  1.45it/s]\n",
      "100%|██████████| 16/16 [00:06<00:00,  2.35it/s]\n"
     ]
    },
    {
     "name": "stdout",
     "output_type": "stream",
     "text": [
      "Training Accuracy: 6.18%, Validation Accuracy: 4.87%\n",
      "Epoch 10/30\n"
     ]
    },
    {
     "name": "stderr",
     "output_type": "stream",
     "text": [
      "100%|██████████| 62/62 [00:42<00:00,  1.45it/s]\n",
      "100%|██████████| 16/16 [00:07<00:00,  2.25it/s]\n"
     ]
    },
    {
     "name": "stdout",
     "output_type": "stream",
     "text": [
      "Training Accuracy: 7.40%, Validation Accuracy: 5.68%\n",
      "Epoch 11/30\n"
     ]
    },
    {
     "name": "stderr",
     "output_type": "stream",
     "text": [
      "100%|██████████| 62/62 [00:43<00:00,  1.43it/s]\n",
      "100%|██████████| 16/16 [00:07<00:00,  2.28it/s]\n"
     ]
    },
    {
     "name": "stdout",
     "output_type": "stream",
     "text": [
      "Training Accuracy: 8.36%, Validation Accuracy: 4.46%\n",
      "Epoch 12/30\n"
     ]
    },
    {
     "name": "stderr",
     "output_type": "stream",
     "text": [
      "100%|██████████| 62/62 [00:43<00:00,  1.43it/s]\n",
      "100%|██████████| 16/16 [00:07<00:00,  2.26it/s]\n"
     ]
    },
    {
     "name": "stdout",
     "output_type": "stream",
     "text": [
      "Training Accuracy: 8.06%, Validation Accuracy: 5.27%\n",
      "Epoch 13/30\n"
     ]
    },
    {
     "name": "stderr",
     "output_type": "stream",
     "text": [
      "100%|██████████| 62/62 [00:44<00:00,  1.40it/s]\n",
      "100%|██████████| 16/16 [00:07<00:00,  2.28it/s]\n"
     ]
    },
    {
     "name": "stdout",
     "output_type": "stream",
     "text": [
      "Training Accuracy: 7.75%, Validation Accuracy: 5.48%\n",
      "Epoch 14/30\n"
     ]
    },
    {
     "name": "stderr",
     "output_type": "stream",
     "text": [
      "100%|██████████| 62/62 [00:42<00:00,  1.47it/s]\n",
      "100%|██████████| 16/16 [00:06<00:00,  2.32it/s]\n"
     ]
    },
    {
     "name": "stdout",
     "output_type": "stream",
     "text": [
      "Training Accuracy: 7.91%, Validation Accuracy: 3.65%\n",
      "Epoch 15/30\n"
     ]
    },
    {
     "name": "stderr",
     "output_type": "stream",
     "text": [
      "100%|██████████| 62/62 [00:42<00:00,  1.45it/s]\n",
      "100%|██████████| 16/16 [00:06<00:00,  2.30it/s]\n"
     ]
    },
    {
     "name": "stdout",
     "output_type": "stream",
     "text": [
      "Training Accuracy: 9.17%, Validation Accuracy: 4.67%\n",
      "Epoch 16/30\n"
     ]
    },
    {
     "name": "stderr",
     "output_type": "stream",
     "text": [
      "100%|██████████| 62/62 [00:43<00:00,  1.42it/s]\n",
      "100%|██████████| 16/16 [00:06<00:00,  2.31it/s]\n"
     ]
    },
    {
     "name": "stdout",
     "output_type": "stream",
     "text": [
      "Training Accuracy: 8.31%, Validation Accuracy: 4.87%\n",
      "Epoch 17/30\n"
     ]
    },
    {
     "name": "stderr",
     "output_type": "stream",
     "text": [
      "100%|██████████| 62/62 [00:45<00:00,  1.36it/s]\n",
      "100%|██████████| 16/16 [00:07<00:00,  2.28it/s]\n"
     ]
    },
    {
     "name": "stdout",
     "output_type": "stream",
     "text": [
      "Training Accuracy: 9.07%, Validation Accuracy: 4.06%\n",
      "Epoch 18/30\n"
     ]
    },
    {
     "name": "stderr",
     "output_type": "stream",
     "text": [
      "100%|██████████| 62/62 [01:16<00:00,  1.23s/it]\n",
      "100%|██████████| 16/16 [00:13<00:00,  1.19it/s]\n"
     ]
    },
    {
     "name": "stdout",
     "output_type": "stream",
     "text": [
      "Training Accuracy: 8.87%, Validation Accuracy: 3.45%\n",
      "Epoch 19/30\n"
     ]
    },
    {
     "name": "stderr",
     "output_type": "stream",
     "text": [
      "100%|██████████| 62/62 [02:14<00:00,  2.17s/it]\n",
      "100%|██████████| 16/16 [00:13<00:00,  1.18it/s]\n"
     ]
    },
    {
     "name": "stdout",
     "output_type": "stream",
     "text": [
      "Training Accuracy: 9.28%, Validation Accuracy: 4.06%\n",
      "Epoch 20/30\n"
     ]
    },
    {
     "name": "stderr",
     "output_type": "stream",
     "text": [
      "100%|██████████| 62/62 [02:12<00:00,  2.14s/it]\n",
      "100%|██████████| 16/16 [00:13<00:00,  1.15it/s]\n"
     ]
    },
    {
     "name": "stdout",
     "output_type": "stream",
     "text": [
      "Training Accuracy: 9.73%, Validation Accuracy: 4.26%\n",
      "Epoch 21/30\n"
     ]
    },
    {
     "name": "stderr",
     "output_type": "stream",
     "text": [
      "100%|██████████| 62/62 [02:12<00:00,  2.14s/it]\n",
      "100%|██████████| 16/16 [00:14<00:00,  1.10it/s]\n"
     ]
    },
    {
     "name": "stdout",
     "output_type": "stream",
     "text": [
      "Training Accuracy: 9.58%, Validation Accuracy: 4.87%\n",
      "Epoch 22/30\n"
     ]
    },
    {
     "name": "stderr",
     "output_type": "stream",
     "text": [
      "100%|██████████| 62/62 [02:12<00:00,  2.14s/it]\n",
      "100%|██████████| 16/16 [00:13<00:00,  1.17it/s]\n"
     ]
    },
    {
     "name": "stdout",
     "output_type": "stream",
     "text": [
      "Training Accuracy: 10.29%, Validation Accuracy: 4.46%\n",
      "Epoch 23/30\n"
     ]
    },
    {
     "name": "stderr",
     "output_type": "stream",
     "text": [
      "100%|██████████| 62/62 [02:13<00:00,  2.16s/it]\n",
      "100%|██████████| 16/16 [00:13<00:00,  1.15it/s]\n"
     ]
    },
    {
     "name": "stdout",
     "output_type": "stream",
     "text": [
      "Training Accuracy: 11.91%, Validation Accuracy: 3.45%\n",
      "Epoch 24/30\n"
     ]
    },
    {
     "name": "stderr",
     "output_type": "stream",
     "text": [
      "100%|██████████| 62/62 [02:12<00:00,  2.14s/it]\n",
      "100%|██████████| 16/16 [00:13<00:00,  1.15it/s]\n"
     ]
    },
    {
     "name": "stdout",
     "output_type": "stream",
     "text": [
      "Training Accuracy: 11.91%, Validation Accuracy: 3.45%\n",
      "Epoch 25/30\n"
     ]
    },
    {
     "name": "stderr",
     "output_type": "stream",
     "text": [
      "100%|██████████| 62/62 [01:06<00:00,  1.07s/it]\n",
      "100%|██████████| 16/16 [00:04<00:00,  3.27it/s]\n"
     ]
    },
    {
     "name": "stdout",
     "output_type": "stream",
     "text": [
      "Training Accuracy: 14.24%, Validation Accuracy: 3.04%\n",
      "Epoch 26/30\n"
     ]
    },
    {
     "name": "stderr",
     "output_type": "stream",
     "text": [
      "100%|██████████| 62/62 [00:28<00:00,  2.20it/s]\n",
      "100%|██████████| 16/16 [00:05<00:00,  3.18it/s]\n"
     ]
    },
    {
     "name": "stdout",
     "output_type": "stream",
     "text": [
      "Training Accuracy: 13.99%, Validation Accuracy: 3.45%\n",
      "Epoch 27/30\n"
     ]
    },
    {
     "name": "stderr",
     "output_type": "stream",
     "text": [
      "100%|██████████| 62/62 [00:34<00:00,  1.80it/s]\n",
      "100%|██████████| 16/16 [00:05<00:00,  3.03it/s]\n"
     ]
    },
    {
     "name": "stdout",
     "output_type": "stream",
     "text": [
      "Training Accuracy: 14.19%, Validation Accuracy: 3.45%\n",
      "Epoch 28/30\n"
     ]
    },
    {
     "name": "stderr",
     "output_type": "stream",
     "text": [
      "100%|██████████| 62/62 [00:28<00:00,  2.18it/s]\n",
      "100%|██████████| 16/16 [00:04<00:00,  3.26it/s]\n"
     ]
    },
    {
     "name": "stdout",
     "output_type": "stream",
     "text": [
      "Training Accuracy: 15.26%, Validation Accuracy: 3.45%\n",
      "Epoch 29/30\n"
     ]
    },
    {
     "name": "stderr",
     "output_type": "stream",
     "text": [
      "100%|██████████| 62/62 [00:28<00:00,  2.18it/s]\n",
      "100%|██████████| 16/16 [00:04<00:00,  3.27it/s]\n"
     ]
    },
    {
     "name": "stdout",
     "output_type": "stream",
     "text": [
      "Training Accuracy: 18.25%, Validation Accuracy: 4.26%\n",
      "Epoch 30/30\n"
     ]
    },
    {
     "name": "stderr",
     "output_type": "stream",
     "text": [
      "100%|██████████| 62/62 [00:28<00:00,  2.21it/s]\n",
      "100%|██████████| 16/16 [00:04<00:00,  3.29it/s]\n"
     ]
    },
    {
     "name": "stdout",
     "output_type": "stream",
     "text": [
      "Training Accuracy: 16.93%, Validation Accuracy: 4.67%\n",
      "\n",
      "\n",
      "\n",
      "Fold 3/5\n",
      "\n",
      "Epoch 1/30\n"
     ]
    },
    {
     "name": "stderr",
     "output_type": "stream",
     "text": [
      "100%|██████████| 62/62 [00:28<00:00,  2.21it/s]\n",
      "100%|██████████| 16/16 [00:05<00:00,  3.15it/s]\n"
     ]
    },
    {
     "name": "stdout",
     "output_type": "stream",
     "text": [
      "Training Accuracy: 13.74%, Validation Accuracy: 17.85%\n",
      "Epoch 2/30\n"
     ]
    },
    {
     "name": "stderr",
     "output_type": "stream",
     "text": [
      "100%|██████████| 62/62 [00:28<00:00,  2.19it/s]\n",
      "100%|██████████| 16/16 [00:05<00:00,  3.19it/s]\n"
     ]
    },
    {
     "name": "stdout",
     "output_type": "stream",
     "text": [
      "Training Accuracy: 15.46%, Validation Accuracy: 17.04%\n",
      "Epoch 3/30\n"
     ]
    },
    {
     "name": "stderr",
     "output_type": "stream",
     "text": [
      "100%|██████████| 62/62 [00:28<00:00,  2.17it/s]\n",
      "100%|██████████| 16/16 [00:05<00:00,  2.90it/s]\n"
     ]
    },
    {
     "name": "stdout",
     "output_type": "stream",
     "text": [
      "Training Accuracy: 17.03%, Validation Accuracy: 17.65%\n",
      "Epoch 4/30\n"
     ]
    },
    {
     "name": "stderr",
     "output_type": "stream",
     "text": [
      "100%|██████████| 62/62 [00:29<00:00,  2.10it/s]\n",
      "100%|██████████| 16/16 [00:05<00:00,  2.72it/s]\n"
     ]
    },
    {
     "name": "stdout",
     "output_type": "stream",
     "text": [
      "Training Accuracy: 19.16%, Validation Accuracy: 16.43%\n",
      "Epoch 5/30\n"
     ]
    },
    {
     "name": "stderr",
     "output_type": "stream",
     "text": [
      "100%|██████████| 62/62 [00:29<00:00,  2.11it/s]\n",
      "100%|██████████| 16/16 [00:06<00:00,  2.66it/s]\n"
     ]
    },
    {
     "name": "stdout",
     "output_type": "stream",
     "text": [
      "Training Accuracy: 19.61%, Validation Accuracy: 15.01%\n",
      "Epoch 6/30\n"
     ]
    },
    {
     "name": "stderr",
     "output_type": "stream",
     "text": [
      "100%|██████████| 62/62 [00:29<00:00,  2.07it/s]\n",
      "100%|██████████| 16/16 [00:06<00:00,  2.59it/s]\n"
     ]
    },
    {
     "name": "stdout",
     "output_type": "stream",
     "text": [
      "Training Accuracy: 20.22%, Validation Accuracy: 14.81%\n",
      "Epoch 7/30\n"
     ]
    },
    {
     "name": "stderr",
     "output_type": "stream",
     "text": [
      "100%|██████████| 62/62 [00:29<00:00,  2.09it/s]\n",
      "100%|██████████| 16/16 [00:05<00:00,  2.75it/s]\n"
     ]
    },
    {
     "name": "stdout",
     "output_type": "stream",
     "text": [
      "Training Accuracy: 22.76%, Validation Accuracy: 12.78%\n",
      "Epoch 8/30\n"
     ]
    },
    {
     "name": "stderr",
     "output_type": "stream",
     "text": [
      "100%|██████████| 62/62 [00:29<00:00,  2.10it/s]\n",
      "100%|██████████| 16/16 [00:05<00:00,  2.79it/s]\n"
     ]
    },
    {
     "name": "stdout",
     "output_type": "stream",
     "text": [
      "Training Accuracy: 24.89%, Validation Accuracy: 14.60%\n",
      "Epoch 9/30\n"
     ]
    },
    {
     "name": "stderr",
     "output_type": "stream",
     "text": [
      "100%|██████████| 62/62 [00:29<00:00,  2.11it/s]\n",
      "100%|██████████| 16/16 [00:05<00:00,  2.74it/s]\n"
     ]
    },
    {
     "name": "stdout",
     "output_type": "stream",
     "text": [
      "Training Accuracy: 27.27%, Validation Accuracy: 13.59%\n",
      "Epoch 10/30\n"
     ]
    },
    {
     "name": "stderr",
     "output_type": "stream",
     "text": [
      "100%|██████████| 62/62 [00:29<00:00,  2.13it/s]\n",
      "100%|██████████| 16/16 [00:05<00:00,  2.70it/s]\n"
     ]
    },
    {
     "name": "stdout",
     "output_type": "stream",
     "text": [
      "Training Accuracy: 29.30%, Validation Accuracy: 12.58%\n",
      "Epoch 11/30\n"
     ]
    },
    {
     "name": "stderr",
     "output_type": "stream",
     "text": [
      "100%|██████████| 62/62 [00:28<00:00,  2.15it/s]\n",
      "100%|██████████| 16/16 [00:05<00:00,  2.78it/s]\n"
     ]
    },
    {
     "name": "stdout",
     "output_type": "stream",
     "text": [
      "Training Accuracy: 30.26%, Validation Accuracy: 10.55%\n",
      "Epoch 12/30\n"
     ]
    },
    {
     "name": "stderr",
     "output_type": "stream",
     "text": [
      "100%|██████████| 62/62 [00:28<00:00,  2.16it/s]\n",
      "100%|██████████| 16/16 [00:05<00:00,  2.95it/s]\n"
     ]
    },
    {
     "name": "stdout",
     "output_type": "stream",
     "text": [
      "Training Accuracy: 32.18%, Validation Accuracy: 12.58%\n",
      "Epoch 13/30\n"
     ]
    },
    {
     "name": "stderr",
     "output_type": "stream",
     "text": [
      "100%|██████████| 62/62 [00:28<00:00,  2.17it/s]\n",
      "100%|██████████| 16/16 [00:05<00:00,  2.92it/s]\n"
     ]
    },
    {
     "name": "stdout",
     "output_type": "stream",
     "text": [
      "Training Accuracy: 34.62%, Validation Accuracy: 11.56%\n",
      "Epoch 14/30\n"
     ]
    },
    {
     "name": "stderr",
     "output_type": "stream",
     "text": [
      "100%|██████████| 62/62 [00:28<00:00,  2.16it/s]\n",
      "100%|██████████| 16/16 [00:05<00:00,  2.73it/s]\n"
     ]
    },
    {
     "name": "stdout",
     "output_type": "stream",
     "text": [
      "Training Accuracy: 36.19%, Validation Accuracy: 13.18%\n",
      "Epoch 15/30\n"
     ]
    },
    {
     "name": "stderr",
     "output_type": "stream",
     "text": [
      "100%|██████████| 62/62 [00:29<00:00,  2.11it/s]\n",
      "100%|██████████| 16/16 [00:05<00:00,  2.80it/s]\n"
     ]
    },
    {
     "name": "stdout",
     "output_type": "stream",
     "text": [
      "Training Accuracy: 37.96%, Validation Accuracy: 13.39%\n",
      "Epoch 16/30\n"
     ]
    },
    {
     "name": "stderr",
     "output_type": "stream",
     "text": [
      "100%|██████████| 62/62 [00:29<00:00,  2.14it/s]\n",
      "100%|██████████| 16/16 [00:05<00:00,  2.83it/s]\n"
     ]
    },
    {
     "name": "stdout",
     "output_type": "stream",
     "text": [
      "Training Accuracy: 40.29%, Validation Accuracy: 12.17%\n",
      "Epoch 17/30\n"
     ]
    },
    {
     "name": "stderr",
     "output_type": "stream",
     "text": [
      "100%|██████████| 62/62 [00:28<00:00,  2.15it/s]\n",
      "100%|██████████| 16/16 [00:05<00:00,  2.84it/s]\n"
     ]
    },
    {
     "name": "stdout",
     "output_type": "stream",
     "text": [
      "Training Accuracy: 41.05%, Validation Accuracy: 11.16%\n",
      "Epoch 18/30\n"
     ]
    },
    {
     "name": "stderr",
     "output_type": "stream",
     "text": [
      "100%|██████████| 62/62 [00:28<00:00,  2.14it/s]\n",
      "100%|██████████| 16/16 [00:05<00:00,  2.88it/s]\n"
     ]
    },
    {
     "name": "stdout",
     "output_type": "stream",
     "text": [
      "Training Accuracy: 45.72%, Validation Accuracy: 9.53%\n",
      "Epoch 19/30\n"
     ]
    },
    {
     "name": "stderr",
     "output_type": "stream",
     "text": [
      "100%|██████████| 62/62 [00:28<00:00,  2.16it/s]\n",
      "100%|██████████| 16/16 [00:05<00:00,  2.89it/s]\n"
     ]
    },
    {
     "name": "stdout",
     "output_type": "stream",
     "text": [
      "Training Accuracy: 43.44%, Validation Accuracy: 9.33%\n",
      "Epoch 20/30\n"
     ]
    },
    {
     "name": "stderr",
     "output_type": "stream",
     "text": [
      "100%|██████████| 62/62 [00:28<00:00,  2.16it/s]\n",
      "100%|██████████| 16/16 [00:05<00:00,  2.90it/s]\n"
     ]
    },
    {
     "name": "stdout",
     "output_type": "stream",
     "text": [
      "Training Accuracy: 47.69%, Validation Accuracy: 10.34%\n",
      "Epoch 21/30\n"
     ]
    },
    {
     "name": "stderr",
     "output_type": "stream",
     "text": [
      "100%|██████████| 62/62 [00:28<00:00,  2.19it/s]\n",
      "100%|██████████| 16/16 [00:05<00:00,  2.94it/s]\n"
     ]
    },
    {
     "name": "stdout",
     "output_type": "stream",
     "text": [
      "Training Accuracy: 46.22%, Validation Accuracy: 10.75%\n",
      "Epoch 22/30\n"
     ]
    },
    {
     "name": "stderr",
     "output_type": "stream",
     "text": [
      "100%|██████████| 62/62 [00:28<00:00,  2.19it/s]\n",
      "100%|██████████| 16/16 [00:05<00:00,  2.97it/s]\n"
     ]
    },
    {
     "name": "stdout",
     "output_type": "stream",
     "text": [
      "Training Accuracy: 51.34%, Validation Accuracy: 11.16%\n",
      "Epoch 23/30\n"
     ]
    },
    {
     "name": "stderr",
     "output_type": "stream",
     "text": [
      "100%|██████████| 62/62 [00:28<00:00,  2.17it/s]\n",
      "100%|██████████| 16/16 [00:05<00:00,  2.95it/s]\n"
     ]
    },
    {
     "name": "stdout",
     "output_type": "stream",
     "text": [
      "Training Accuracy: 52.61%, Validation Accuracy: 11.36%\n",
      "Epoch 24/30\n"
     ]
    },
    {
     "name": "stderr",
     "output_type": "stream",
     "text": [
      "100%|██████████| 62/62 [00:28<00:00,  2.16it/s]\n",
      "100%|██████████| 16/16 [00:05<00:00,  2.89it/s]\n"
     ]
    },
    {
     "name": "stdout",
     "output_type": "stream",
     "text": [
      "Training Accuracy: 54.23%, Validation Accuracy: 11.56%\n",
      "Epoch 25/30\n"
     ]
    },
    {
     "name": "stderr",
     "output_type": "stream",
     "text": [
      "100%|██████████| 62/62 [00:28<00:00,  2.17it/s]\n",
      "100%|██████████| 16/16 [00:05<00:00,  2.90it/s]\n"
     ]
    },
    {
     "name": "stdout",
     "output_type": "stream",
     "text": [
      "Training Accuracy: 56.31%, Validation Accuracy: 10.55%\n",
      "Epoch 26/30\n"
     ]
    },
    {
     "name": "stderr",
     "output_type": "stream",
     "text": [
      "100%|██████████| 62/62 [00:28<00:00,  2.14it/s]\n",
      "100%|██████████| 16/16 [00:05<00:00,  2.95it/s]\n"
     ]
    },
    {
     "name": "stdout",
     "output_type": "stream",
     "text": [
      "Training Accuracy: 55.75%, Validation Accuracy: 9.13%\n",
      "Epoch 27/30\n"
     ]
    },
    {
     "name": "stderr",
     "output_type": "stream",
     "text": [
      "100%|██████████| 62/62 [00:28<00:00,  2.17it/s]\n",
      "100%|██████████| 16/16 [00:05<00:00,  2.98it/s]\n"
     ]
    },
    {
     "name": "stdout",
     "output_type": "stream",
     "text": [
      "Training Accuracy: 57.93%, Validation Accuracy: 10.55%\n",
      "Epoch 28/30\n"
     ]
    },
    {
     "name": "stderr",
     "output_type": "stream",
     "text": [
      "100%|██████████| 62/62 [00:28<00:00,  2.18it/s]\n",
      "100%|██████████| 16/16 [00:05<00:00,  2.92it/s]\n"
     ]
    },
    {
     "name": "stdout",
     "output_type": "stream",
     "text": [
      "Training Accuracy: 59.00%, Validation Accuracy: 9.13%\n",
      "Epoch 29/30\n"
     ]
    },
    {
     "name": "stderr",
     "output_type": "stream",
     "text": [
      "100%|██████████| 62/62 [00:28<00:00,  2.18it/s]\n",
      "100%|██████████| 16/16 [00:05<00:00,  2.94it/s]\n"
     ]
    },
    {
     "name": "stdout",
     "output_type": "stream",
     "text": [
      "Training Accuracy: 61.23%, Validation Accuracy: 6.90%\n",
      "Epoch 30/30\n"
     ]
    },
    {
     "name": "stderr",
     "output_type": "stream",
     "text": [
      "100%|██████████| 62/62 [00:28<00:00,  2.18it/s]\n",
      "100%|██████████| 16/16 [00:05<00:00,  2.80it/s]\n"
     ]
    },
    {
     "name": "stdout",
     "output_type": "stream",
     "text": [
      "Training Accuracy: 60.62%, Validation Accuracy: 10.34%\n",
      "\n",
      "\n",
      "\n",
      "Fold 4/5\n",
      "\n",
      "Epoch 1/30\n"
     ]
    },
    {
     "name": "stderr",
     "output_type": "stream",
     "text": [
      "100%|██████████| 62/62 [00:28<00:00,  2.15it/s]\n",
      "100%|██████████| 16/16 [00:05<00:00,  2.90it/s]\n"
     ]
    },
    {
     "name": "stdout",
     "output_type": "stream",
     "text": [
      "Training Accuracy: 41.71%, Validation Accuracy: 57.61%\n",
      "Epoch 2/30\n"
     ]
    },
    {
     "name": "stderr",
     "output_type": "stream",
     "text": [
      "100%|██████████| 62/62 [00:28<00:00,  2.18it/s]\n",
      "100%|██████████| 16/16 [00:05<00:00,  2.96it/s]\n"
     ]
    },
    {
     "name": "stdout",
     "output_type": "stream",
     "text": [
      "Training Accuracy: 49.47%, Validation Accuracy: 69.57%\n",
      "Epoch 3/30\n"
     ]
    },
    {
     "name": "stderr",
     "output_type": "stream",
     "text": [
      "100%|██████████| 62/62 [00:28<00:00,  2.18it/s]\n",
      "100%|██████████| 16/16 [00:05<00:00,  2.95it/s]\n"
     ]
    },
    {
     "name": "stdout",
     "output_type": "stream",
     "text": [
      "Training Accuracy: 55.60%, Validation Accuracy: 63.49%\n",
      "Epoch 4/30\n"
     ]
    },
    {
     "name": "stderr",
     "output_type": "stream",
     "text": [
      "100%|██████████| 62/62 [00:28<00:00,  2.18it/s]\n",
      "100%|██████████| 16/16 [00:05<00:00,  2.92it/s]\n"
     ]
    },
    {
     "name": "stdout",
     "output_type": "stream",
     "text": [
      "Training Accuracy: 57.58%, Validation Accuracy: 58.42%\n",
      "Epoch 5/30\n"
     ]
    },
    {
     "name": "stderr",
     "output_type": "stream",
     "text": [
      "100%|██████████| 62/62 [00:28<00:00,  2.20it/s]\n",
      "100%|██████████| 16/16 [00:05<00:00,  2.94it/s]\n"
     ]
    },
    {
     "name": "stdout",
     "output_type": "stream",
     "text": [
      "Training Accuracy: 60.87%, Validation Accuracy: 66.13%\n",
      "Epoch 6/30\n"
     ]
    },
    {
     "name": "stderr",
     "output_type": "stream",
     "text": [
      "100%|██████████| 62/62 [00:28<00:00,  2.19it/s]\n",
      "100%|██████████| 16/16 [00:05<00:00,  2.92it/s]\n"
     ]
    },
    {
     "name": "stdout",
     "output_type": "stream",
     "text": [
      "Training Accuracy: 62.90%, Validation Accuracy: 61.26%\n",
      "Epoch 7/30\n"
     ]
    },
    {
     "name": "stderr",
     "output_type": "stream",
     "text": [
      "100%|██████████| 62/62 [00:31<00:00,  1.95it/s]\n",
      "100%|██████████| 16/16 [00:06<00:00,  2.53it/s]\n"
     ]
    },
    {
     "name": "stdout",
     "output_type": "stream",
     "text": [
      "Training Accuracy: 62.60%, Validation Accuracy: 57.20%\n",
      "Epoch 8/30\n"
     ]
    },
    {
     "name": "stderr",
     "output_type": "stream",
     "text": [
      "100%|██████████| 62/62 [00:37<00:00,  1.65it/s]\n",
      "100%|██████████| 16/16 [00:09<00:00,  1.73it/s]\n"
     ]
    },
    {
     "name": "stdout",
     "output_type": "stream",
     "text": [
      "Training Accuracy: 65.08%, Validation Accuracy: 57.81%\n",
      "Epoch 9/30\n"
     ]
    },
    {
     "name": "stderr",
     "output_type": "stream",
     "text": [
      "100%|██████████| 62/62 [00:29<00:00,  2.12it/s]\n",
      "100%|██████████| 16/16 [00:05<00:00,  2.86it/s]\n"
     ]
    },
    {
     "name": "stdout",
     "output_type": "stream",
     "text": [
      "Training Accuracy: 66.24%, Validation Accuracy: 63.49%\n",
      "Epoch 10/30\n"
     ]
    },
    {
     "name": "stderr",
     "output_type": "stream",
     "text": [
      "100%|██████████| 62/62 [00:29<00:00,  2.10it/s]\n",
      "100%|██████████| 16/16 [00:05<00:00,  2.82it/s]\n"
     ]
    },
    {
     "name": "stdout",
     "output_type": "stream",
     "text": [
      "Training Accuracy: 70.50%, Validation Accuracy: 54.77%\n",
      "Epoch 11/30\n"
     ]
    },
    {
     "name": "stderr",
     "output_type": "stream",
     "text": [
      "100%|██████████| 62/62 [00:29<00:00,  2.11it/s]\n",
      "100%|██████████| 16/16 [00:05<00:00,  2.84it/s]\n"
     ]
    },
    {
     "name": "stdout",
     "output_type": "stream",
     "text": [
      "Training Accuracy: 71.21%, Validation Accuracy: 54.16%\n",
      "Epoch 12/30\n"
     ]
    },
    {
     "name": "stderr",
     "output_type": "stream",
     "text": [
      "100%|██████████| 62/62 [00:30<00:00,  2.06it/s]\n",
      "100%|██████████| 16/16 [00:05<00:00,  2.68it/s]\n"
     ]
    },
    {
     "name": "stdout",
     "output_type": "stream",
     "text": [
      "Training Accuracy: 74.61%, Validation Accuracy: 51.52%\n",
      "Epoch 13/30\n"
     ]
    },
    {
     "name": "stderr",
     "output_type": "stream",
     "text": [
      "100%|██████████| 62/62 [00:29<00:00,  2.08it/s]\n",
      "100%|██████████| 16/16 [00:05<00:00,  2.76it/s]\n"
     ]
    },
    {
     "name": "stdout",
     "output_type": "stream",
     "text": [
      "Training Accuracy: 75.16%, Validation Accuracy: 55.98%\n",
      "Epoch 14/30\n"
     ]
    },
    {
     "name": "stderr",
     "output_type": "stream",
     "text": [
      "100%|██████████| 62/62 [00:29<00:00,  2.09it/s]\n",
      "100%|██████████| 16/16 [00:05<00:00,  2.79it/s]\n"
     ]
    },
    {
     "name": "stdout",
     "output_type": "stream",
     "text": [
      "Training Accuracy: 74.30%, Validation Accuracy: 54.16%\n",
      "Epoch 15/30\n"
     ]
    },
    {
     "name": "stderr",
     "output_type": "stream",
     "text": [
      "100%|██████████| 62/62 [00:29<00:00,  2.11it/s]\n",
      "100%|██████████| 16/16 [00:05<00:00,  2.82it/s]\n"
     ]
    },
    {
     "name": "stdout",
     "output_type": "stream",
     "text": [
      "Training Accuracy: 75.22%, Validation Accuracy: 49.70%\n",
      "Epoch 16/30\n"
     ]
    },
    {
     "name": "stderr",
     "output_type": "stream",
     "text": [
      "100%|██████████| 62/62 [00:29<00:00,  2.12it/s]\n",
      "100%|██████████| 16/16 [00:05<00:00,  2.81it/s]\n"
     ]
    },
    {
     "name": "stdout",
     "output_type": "stream",
     "text": [
      "Training Accuracy: 75.92%, Validation Accuracy: 45.64%\n",
      "Epoch 17/30\n"
     ]
    },
    {
     "name": "stderr",
     "output_type": "stream",
     "text": [
      "100%|██████████| 62/62 [00:30<00:00,  2.07it/s]\n",
      "100%|██████████| 16/16 [00:05<00:00,  2.85it/s]\n"
     ]
    },
    {
     "name": "stdout",
     "output_type": "stream",
     "text": [
      "Training Accuracy: 76.28%, Validation Accuracy: 51.32%\n",
      "Epoch 18/30\n"
     ]
    },
    {
     "name": "stderr",
     "output_type": "stream",
     "text": [
      "100%|██████████| 62/62 [00:29<00:00,  2.10it/s]\n",
      "100%|██████████| 16/16 [00:05<00:00,  2.78it/s]\n"
     ]
    },
    {
     "name": "stdout",
     "output_type": "stream",
     "text": [
      "Training Accuracy: 78.76%, Validation Accuracy: 53.35%\n",
      "Epoch 19/30\n"
     ]
    },
    {
     "name": "stderr",
     "output_type": "stream",
     "text": [
      "100%|██████████| 62/62 [00:33<00:00,  1.82it/s]\n",
      "100%|██████████| 16/16 [00:07<00:00,  2.07it/s]\n"
     ]
    },
    {
     "name": "stdout",
     "output_type": "stream",
     "text": [
      "Training Accuracy: 78.61%, Validation Accuracy: 51.93%\n",
      "Epoch 20/30\n"
     ]
    },
    {
     "name": "stderr",
     "output_type": "stream",
     "text": [
      "100%|██████████| 62/62 [00:38<00:00,  1.60it/s]\n",
      "100%|██████████| 16/16 [00:07<00:00,  2.14it/s]\n"
     ]
    },
    {
     "name": "stdout",
     "output_type": "stream",
     "text": [
      "Training Accuracy: 80.99%, Validation Accuracy: 52.33%\n",
      "Epoch 21/30\n"
     ]
    },
    {
     "name": "stderr",
     "output_type": "stream",
     "text": [
      "100%|██████████| 62/62 [00:32<00:00,  1.88it/s]\n",
      "100%|██████████| 16/16 [00:04<00:00,  3.24it/s]\n"
     ]
    },
    {
     "name": "stdout",
     "output_type": "stream",
     "text": [
      "Training Accuracy: 81.45%, Validation Accuracy: 47.67%\n",
      "Epoch 22/30\n"
     ]
    },
    {
     "name": "stderr",
     "output_type": "stream",
     "text": [
      "100%|██████████| 62/62 [00:28<00:00,  2.17it/s]\n",
      "100%|██████████| 16/16 [00:05<00:00,  3.16it/s]\n"
     ]
    },
    {
     "name": "stdout",
     "output_type": "stream",
     "text": [
      "Training Accuracy: 81.80%, Validation Accuracy: 43.20%\n",
      "Epoch 23/30\n"
     ]
    },
    {
     "name": "stderr",
     "output_type": "stream",
     "text": [
      "100%|██████████| 62/62 [00:28<00:00,  2.14it/s]\n",
      "100%|██████████| 16/16 [00:05<00:00,  2.77it/s]\n"
     ]
    },
    {
     "name": "stdout",
     "output_type": "stream",
     "text": [
      "Training Accuracy: 83.12%, Validation Accuracy: 50.71%\n",
      "Epoch 24/30\n"
     ]
    },
    {
     "name": "stderr",
     "output_type": "stream",
     "text": [
      "100%|██████████| 62/62 [00:41<00:00,  1.49it/s]\n",
      "100%|██████████| 16/16 [00:05<00:00,  2.71it/s]\n"
     ]
    },
    {
     "name": "stdout",
     "output_type": "stream",
     "text": [
      "Training Accuracy: 85.25%, Validation Accuracy: 41.78%\n",
      "Epoch 25/30\n"
     ]
    },
    {
     "name": "stderr",
     "output_type": "stream",
     "text": [
      "100%|██████████| 62/62 [00:31<00:00,  1.99it/s]\n",
      "100%|██████████| 16/16 [00:06<00:00,  2.62it/s]\n"
     ]
    },
    {
     "name": "stdout",
     "output_type": "stream",
     "text": [
      "Training Accuracy: 81.15%, Validation Accuracy: 40.16%\n",
      "Epoch 26/30\n"
     ]
    },
    {
     "name": "stderr",
     "output_type": "stream",
     "text": [
      "100%|██████████| 62/62 [00:29<00:00,  2.09it/s]\n",
      "100%|██████████| 16/16 [00:05<00:00,  2.84it/s]\n"
     ]
    },
    {
     "name": "stdout",
     "output_type": "stream",
     "text": [
      "Training Accuracy: 84.14%, Validation Accuracy: 41.99%\n",
      "Epoch 27/30\n"
     ]
    },
    {
     "name": "stderr",
     "output_type": "stream",
     "text": [
      "100%|██████████| 62/62 [00:33<00:00,  1.84it/s]\n",
      "100%|██████████| 16/16 [00:04<00:00,  3.23it/s]\n"
     ]
    },
    {
     "name": "stdout",
     "output_type": "stream",
     "text": [
      "Training Accuracy: 82.41%, Validation Accuracy: 45.23%\n",
      "Epoch 28/30\n"
     ]
    },
    {
     "name": "stderr",
     "output_type": "stream",
     "text": [
      "100%|██████████| 62/62 [00:28<00:00,  2.15it/s]\n",
      "100%|██████████| 16/16 [00:05<00:00,  2.83it/s]\n"
     ]
    },
    {
     "name": "stdout",
     "output_type": "stream",
     "text": [
      "Training Accuracy: 85.15%, Validation Accuracy: 43.00%\n",
      "Epoch 29/30\n"
     ]
    },
    {
     "name": "stderr",
     "output_type": "stream",
     "text": [
      "100%|██████████| 62/62 [00:29<00:00,  2.12it/s]\n",
      "100%|██████████| 16/16 [00:05<00:00,  2.85it/s]\n"
     ]
    },
    {
     "name": "stdout",
     "output_type": "stream",
     "text": [
      "Training Accuracy: 83.93%, Validation Accuracy: 38.34%\n",
      "Epoch 30/30\n"
     ]
    },
    {
     "name": "stderr",
     "output_type": "stream",
     "text": [
      "100%|██████████| 62/62 [00:28<00:00,  2.14it/s]\n",
      "100%|██████████| 16/16 [00:05<00:00,  2.78it/s]\n"
     ]
    },
    {
     "name": "stdout",
     "output_type": "stream",
     "text": [
      "Training Accuracy: 85.61%, Validation Accuracy: 41.38%\n",
      "\n",
      "\n",
      "\n",
      "Fold 5/5\n",
      "\n",
      "Epoch 1/30\n"
     ]
    },
    {
     "name": "stderr",
     "output_type": "stream",
     "text": [
      "100%|██████████| 62/62 [00:29<00:00,  2.12it/s]\n",
      "100%|██████████| 16/16 [00:05<00:00,  2.84it/s]\n"
     ]
    },
    {
     "name": "stdout",
     "output_type": "stream",
     "text": [
      "Training Accuracy: 69.29%, Validation Accuracy: 86.00%\n",
      "Epoch 2/30\n"
     ]
    },
    {
     "name": "stderr",
     "output_type": "stream",
     "text": [
      "100%|██████████| 62/62 [00:28<00:00,  2.15it/s]\n",
      "100%|██████████| 16/16 [00:05<00:00,  2.88it/s]\n"
     ]
    },
    {
     "name": "stdout",
     "output_type": "stream",
     "text": [
      "Training Accuracy: 75.92%, Validation Accuracy: 90.26%\n",
      "Epoch 3/30\n"
     ]
    },
    {
     "name": "stderr",
     "output_type": "stream",
     "text": [
      "100%|██████████| 62/62 [00:28<00:00,  2.16it/s]\n",
      "100%|██████████| 16/16 [00:05<00:00,  2.79it/s]\n"
     ]
    },
    {
     "name": "stdout",
     "output_type": "stream",
     "text": [
      "Training Accuracy: 79.78%, Validation Accuracy: 93.91%\n",
      "Epoch 4/30\n"
     ]
    },
    {
     "name": "stderr",
     "output_type": "stream",
     "text": [
      "100%|██████████| 62/62 [00:29<00:00,  2.12it/s]\n",
      "100%|██████████| 16/16 [00:05<00:00,  2.85it/s]\n"
     ]
    },
    {
     "name": "stdout",
     "output_type": "stream",
     "text": [
      "Training Accuracy: 81.65%, Validation Accuracy: 85.60%\n",
      "Epoch 5/30\n"
     ]
    },
    {
     "name": "stderr",
     "output_type": "stream",
     "text": [
      "100%|██████████| 62/62 [00:29<00:00,  2.13it/s]\n",
      "100%|██████████| 16/16 [00:05<00:00,  2.85it/s]\n"
     ]
    },
    {
     "name": "stdout",
     "output_type": "stream",
     "text": [
      "Training Accuracy: 83.17%, Validation Accuracy: 87.63%\n",
      "Epoch 6/30\n"
     ]
    },
    {
     "name": "stderr",
     "output_type": "stream",
     "text": [
      "100%|██████████| 62/62 [00:29<00:00,  2.12it/s]\n",
      "100%|██████████| 16/16 [00:05<00:00,  2.89it/s]\n"
     ]
    },
    {
     "name": "stdout",
     "output_type": "stream",
     "text": [
      "Training Accuracy: 84.14%, Validation Accuracy: 91.68%\n",
      "Epoch 7/30\n"
     ]
    },
    {
     "name": "stderr",
     "output_type": "stream",
     "text": [
      "100%|██████████| 62/62 [00:28<00:00,  2.15it/s]\n",
      "100%|██████████| 16/16 [00:05<00:00,  2.91it/s]\n"
     ]
    },
    {
     "name": "stdout",
     "output_type": "stream",
     "text": [
      "Training Accuracy: 86.21%, Validation Accuracy: 81.34%\n",
      "Epoch 8/30\n"
     ]
    },
    {
     "name": "stderr",
     "output_type": "stream",
     "text": [
      "100%|██████████| 62/62 [00:28<00:00,  2.15it/s]\n",
      "100%|██████████| 16/16 [00:05<00:00,  2.98it/s]\n"
     ]
    },
    {
     "name": "stdout",
     "output_type": "stream",
     "text": [
      "Training Accuracy: 85.50%, Validation Accuracy: 86.00%\n",
      "Epoch 9/30\n"
     ]
    },
    {
     "name": "stderr",
     "output_type": "stream",
     "text": [
      "100%|██████████| 62/62 [00:28<00:00,  2.17it/s]\n",
      "100%|██████████| 16/16 [00:05<00:00,  2.94it/s]\n"
     ]
    },
    {
     "name": "stdout",
     "output_type": "stream",
     "text": [
      "Training Accuracy: 87.13%, Validation Accuracy: 86.61%\n",
      "Epoch 10/30\n"
     ]
    },
    {
     "name": "stderr",
     "output_type": "stream",
     "text": [
      "100%|██████████| 62/62 [00:28<00:00,  2.18it/s]\n",
      "100%|██████████| 16/16 [00:05<00:00,  2.95it/s]\n"
     ]
    },
    {
     "name": "stdout",
     "output_type": "stream",
     "text": [
      "Training Accuracy: 87.73%, Validation Accuracy: 87.42%\n",
      "Epoch 11/30\n"
     ]
    },
    {
     "name": "stderr",
     "output_type": "stream",
     "text": [
      "100%|██████████| 62/62 [00:28<00:00,  2.19it/s]\n",
      "100%|██████████| 16/16 [00:05<00:00,  2.95it/s]\n"
     ]
    },
    {
     "name": "stdout",
     "output_type": "stream",
     "text": [
      "Training Accuracy: 85.91%, Validation Accuracy: 79.51%\n",
      "Epoch 12/30\n"
     ]
    },
    {
     "name": "stderr",
     "output_type": "stream",
     "text": [
      "100%|██████████| 62/62 [00:28<00:00,  2.18it/s]\n",
      "100%|██████████| 16/16 [00:05<00:00,  2.97it/s]\n"
     ]
    },
    {
     "name": "stdout",
     "output_type": "stream",
     "text": [
      "Training Accuracy: 86.16%, Validation Accuracy: 84.38%\n",
      "Epoch 13/30\n"
     ]
    },
    {
     "name": "stderr",
     "output_type": "stream",
     "text": [
      "100%|██████████| 62/62 [00:28<00:00,  2.15it/s]\n",
      "100%|██████████| 16/16 [00:05<00:00,  2.81it/s]\n"
     ]
    },
    {
     "name": "stdout",
     "output_type": "stream",
     "text": [
      "Training Accuracy: 86.52%, Validation Accuracy: 84.18%\n",
      "Epoch 14/30\n"
     ]
    },
    {
     "name": "stderr",
     "output_type": "stream",
     "text": [
      "100%|██████████| 62/62 [00:28<00:00,  2.14it/s]\n",
      "100%|██████████| 16/16 [00:05<00:00,  2.87it/s]\n"
     ]
    },
    {
     "name": "stdout",
     "output_type": "stream",
     "text": [
      "Training Accuracy: 88.85%, Validation Accuracy: 86.61%\n",
      "Epoch 15/30\n"
     ]
    },
    {
     "name": "stderr",
     "output_type": "stream",
     "text": [
      "100%|██████████| 62/62 [00:29<00:00,  2.12it/s]\n",
      "100%|██████████| 16/16 [00:05<00:00,  2.88it/s]\n"
     ]
    },
    {
     "name": "stdout",
     "output_type": "stream",
     "text": [
      "Training Accuracy: 88.09%, Validation Accuracy: 88.24%\n",
      "Epoch 16/30\n"
     ]
    },
    {
     "name": "stderr",
     "output_type": "stream",
     "text": [
      "100%|██████████| 62/62 [00:28<00:00,  2.15it/s]\n",
      "100%|██████████| 16/16 [00:05<00:00,  2.87it/s]\n"
     ]
    },
    {
     "name": "stdout",
     "output_type": "stream",
     "text": [
      "Training Accuracy: 88.34%, Validation Accuracy: 82.56%\n",
      "Epoch 17/30\n"
     ]
    },
    {
     "name": "stderr",
     "output_type": "stream",
     "text": [
      "100%|██████████| 62/62 [00:28<00:00,  2.19it/s]\n",
      "100%|██████████| 16/16 [00:05<00:00,  2.87it/s]\n"
     ]
    },
    {
     "name": "stdout",
     "output_type": "stream",
     "text": [
      "Training Accuracy: 89.91%, Validation Accuracy: 84.99%\n",
      "Epoch 18/30\n"
     ]
    },
    {
     "name": "stderr",
     "output_type": "stream",
     "text": [
      "100%|██████████| 62/62 [00:29<00:00,  2.14it/s]\n",
      "100%|██████████| 16/16 [00:05<00:00,  2.83it/s]\n"
     ]
    },
    {
     "name": "stdout",
     "output_type": "stream",
     "text": [
      "Training Accuracy: 90.42%, Validation Accuracy: 86.82%\n",
      "Epoch 19/30\n"
     ]
    },
    {
     "name": "stderr",
     "output_type": "stream",
     "text": [
      "100%|██████████| 62/62 [00:29<00:00,  2.09it/s]\n",
      "100%|██████████| 16/16 [00:05<00:00,  2.81it/s]\n"
     ]
    },
    {
     "name": "stdout",
     "output_type": "stream",
     "text": [
      "Training Accuracy: 90.07%, Validation Accuracy: 78.30%\n",
      "Epoch 20/30\n"
     ]
    },
    {
     "name": "stderr",
     "output_type": "stream",
     "text": [
      "100%|██████████| 62/62 [00:29<00:00,  2.10it/s]\n",
      "100%|██████████| 16/16 [00:05<00:00,  2.77it/s]\n"
     ]
    },
    {
     "name": "stdout",
     "output_type": "stream",
     "text": [
      "Training Accuracy: 92.09%, Validation Accuracy: 84.79%\n",
      "Epoch 21/30\n"
     ]
    },
    {
     "name": "stderr",
     "output_type": "stream",
     "text": [
      "100%|██████████| 62/62 [00:29<00:00,  2.12it/s]\n",
      "100%|██████████| 16/16 [00:05<00:00,  2.88it/s]\n"
     ]
    },
    {
     "name": "stdout",
     "output_type": "stream",
     "text": [
      "Training Accuracy: 91.74%, Validation Accuracy: 80.12%\n",
      "Epoch 22/30\n"
     ]
    },
    {
     "name": "stderr",
     "output_type": "stream",
     "text": [
      "100%|██████████| 62/62 [00:28<00:00,  2.14it/s]\n",
      "100%|██████████| 16/16 [00:05<00:00,  2.95it/s]\n"
     ]
    },
    {
     "name": "stdout",
     "output_type": "stream",
     "text": [
      "Training Accuracy: 91.23%, Validation Accuracy: 78.50%\n",
      "Epoch 23/30\n"
     ]
    },
    {
     "name": "stderr",
     "output_type": "stream",
     "text": [
      "100%|██████████| 62/62 [00:28<00:00,  2.17it/s]\n",
      "100%|██████████| 16/16 [00:05<00:00,  2.91it/s]\n"
     ]
    },
    {
     "name": "stdout",
     "output_type": "stream",
     "text": [
      "Training Accuracy: 90.67%, Validation Accuracy: 80.73%\n",
      "Epoch 24/30\n"
     ]
    },
    {
     "name": "stderr",
     "output_type": "stream",
     "text": [
      "100%|██████████| 62/62 [00:28<00:00,  2.21it/s]\n",
      "100%|██████████| 16/16 [00:05<00:00,  2.95it/s]\n"
     ]
    },
    {
     "name": "stdout",
     "output_type": "stream",
     "text": [
      "Training Accuracy: 90.98%, Validation Accuracy: 82.76%\n",
      "Epoch 25/30\n"
     ]
    },
    {
     "name": "stderr",
     "output_type": "stream",
     "text": [
      "100%|██████████| 62/62 [00:28<00:00,  2.18it/s]\n",
      "100%|██████████| 16/16 [00:05<00:00,  2.93it/s]\n"
     ]
    },
    {
     "name": "stdout",
     "output_type": "stream",
     "text": [
      "Training Accuracy: 91.18%, Validation Accuracy: 77.48%\n",
      "Epoch 26/30\n"
     ]
    },
    {
     "name": "stderr",
     "output_type": "stream",
     "text": [
      "100%|██████████| 62/62 [00:29<00:00,  2.12it/s]\n",
      "100%|██████████| 16/16 [00:05<00:00,  2.82it/s]\n"
     ]
    },
    {
     "name": "stdout",
     "output_type": "stream",
     "text": [
      "Training Accuracy: 88.24%, Validation Accuracy: 71.81%\n",
      "Epoch 27/30\n"
     ]
    },
    {
     "name": "stderr",
     "output_type": "stream",
     "text": [
      "100%|██████████| 62/62 [00:28<00:00,  2.14it/s]\n",
      "100%|██████████| 16/16 [00:05<00:00,  2.86it/s]\n"
     ]
    },
    {
     "name": "stdout",
     "output_type": "stream",
     "text": [
      "Training Accuracy: 90.52%, Validation Accuracy: 78.70%\n",
      "Epoch 28/30\n"
     ]
    },
    {
     "name": "stderr",
     "output_type": "stream",
     "text": [
      "100%|██████████| 62/62 [00:28<00:00,  2.17it/s]\n",
      "100%|██████████| 16/16 [00:05<00:00,  2.93it/s]\n"
     ]
    },
    {
     "name": "stdout",
     "output_type": "stream",
     "text": [
      "Training Accuracy: 91.18%, Validation Accuracy: 79.72%\n",
      "Epoch 29/30\n"
     ]
    },
    {
     "name": "stderr",
     "output_type": "stream",
     "text": [
      "100%|██████████| 62/62 [00:28<00:00,  2.17it/s]\n",
      "100%|██████████| 16/16 [00:05<00:00,  2.98it/s]\n"
     ]
    },
    {
     "name": "stdout",
     "output_type": "stream",
     "text": [
      "Training Accuracy: 92.60%, Validation Accuracy: 79.51%\n",
      "Epoch 30/30\n"
     ]
    },
    {
     "name": "stderr",
     "output_type": "stream",
     "text": [
      "100%|██████████| 62/62 [00:28<00:00,  2.18it/s]\n",
      "100%|██████████| 16/16 [00:05<00:00,  2.87it/s]\n"
     ]
    },
    {
     "name": "stdout",
     "output_type": "stream",
     "text": [
      "Training Accuracy: 91.94%, Validation Accuracy: 76.67%\n",
      "\n",
      "\n",
      "\n"
     ]
    }
   ],
   "source": [
    "# Initialize lists to store predictions and labels for each fold\n",
    "train_predictions_lists = []\n",
    "val_predictions_lists = []\n",
    "train_labels_lists = []\n",
    "val_labels_lists = []\n",
    "train_accuracy_lists = []\n",
    "val_accuracy_lists = []\n",
    "train_precision_lists = []\n",
    "val_precision_lists = []\n",
    "train_recall_lists = []\n",
    "val_recall_lists = []\n",
    "train_f1_lists = []\n",
    "val_f1_lists = []\n",
    "\n",
    "# Define k\n",
    "k = 5\n",
    "batch_size = 32\n",
    "num_epochs = 30\n",
    "# K-fold cross-validation\n",
    "skf = StratifiedKFold(n_splits=k, shuffle=True, random_state=42)\n",
    "X = file_paths\n",
    "y = encoded_labels\n",
    "for fold, (train_index, val_index) in enumerate(skf.split(X, y), start=1):\n",
    "    print(f\"Fold {fold}/{k}\\n\")\n",
    "\n",
    "    # Split data into train and validation sets\n",
    "    X_train, X_val = X[train_index], X[val_index]\n",
    "    y_train, y_val = y[train_index], y[val_index]\n",
    "\n",
    "    # Create data loaders for training and validation\n",
    "    train_dataset = CustomDataset(X_train, y_train, transform=transform)\n",
    "    val_dataset = CustomDataset(X_val, y_val, transform=transform)\n",
    "    train_loader = torch.utils.data.DataLoader(train_dataset, batch_size=batch_size, shuffle=True)\n",
    "    val_loader = torch.utils.data.DataLoader(val_dataset, batch_size=batch_size, shuffle=False)\n",
    "\n",
    "    # Initialize lists to store predictions and labels for each epoch\n",
    "    train_predictions_list = []\n",
    "    val_predictions_list = []\n",
    "    train_labels_list = []\n",
    "    val_labels_list = []\n",
    "    train_accuracy_list = []\n",
    "    val_accuracy_list = []\n",
    "    train_precision_list = []\n",
    "    val_precision_list = []\n",
    "    train_recall_list = []\n",
    "    val_recall_list = []\n",
    "    train_f1_list = []\n",
    "    val_f1_list = []\n",
    "\n",
    "    # Train the model\n",
    "    for epoch in range(1, num_epochs+1):\n",
    "        print(f\"Epoch {epoch}/{num_epochs}\")\n",
    "        model.train()\n",
    "        total_train = 0\n",
    "        correct_train = 0\n",
    "        for images, labels in tqdm(train_loader):\n",
    "            images, labels = images.to(device), labels.to(device)\n",
    "            optimizer.zero_grad()\n",
    "            outputs = model(images)\n",
    "            loss = criterion(outputs, labels)\n",
    "            loss.backward()\n",
    "            optimizer.step()\n",
    "            _, predicted = torch.max(outputs, 1)\n",
    "            total_train += labels.size(0)\n",
    "            correct_train += (predicted == labels).sum().item()\n",
    "            # Store training predictions and labels\n",
    "            train_predictions_list.extend(predicted.cpu().numpy())\n",
    "            train_labels_list.extend(labels.cpu().numpy())\n",
    "\n",
    "        # Validation loop\n",
    "        model.eval()\n",
    "        correct_val = 0\n",
    "        total_val = 0\n",
    "        with torch.no_grad():\n",
    "            for images, labels in tqdm(val_loader):\n",
    "                images, labels = images.to(device), labels.to(device)\n",
    "                outputs = model(images)\n",
    "                _, predicted = torch.max(outputs, 1)\n",
    "                total_val += labels.size(0)\n",
    "                correct_val += (predicted == labels).sum().item()\n",
    "                # Store validation predictions and labels\n",
    "                val_predictions_list.extend(predicted.cpu().numpy())\n",
    "                val_labels_list.extend(labels.cpu().numpy())\n",
    "\n",
    "        # Calculate metrics for training set\n",
    "        train_accuracy = 100 * correct_train / total_train\n",
    "        train_precision = precision_score(train_labels_list, train_predictions_list, average='weighted', zero_division=0)\n",
    "        train_recall = recall_score(train_labels_list, train_predictions_list, average='weighted', zero_division=0)\n",
    "        train_f1 = f1_score(train_labels_list, train_predictions_list, average='weighted',  zero_division=0)\n",
    "        # Append metrics to lists\n",
    "        train_accuracy_list.append(train_accuracy)\n",
    "        train_precision_list.append(train_precision)\n",
    "        train_recall_list.append(train_recall)\n",
    "        train_f1_list.append(train_f1)\n",
    "\n",
    "        # Calculate metrics for validation set\n",
    "        val_accuracy = 100 * correct_val / total_val\n",
    "        val_precision = precision_score(val_labels_list, val_predictions_list, average='weighted', zero_division=0)\n",
    "        val_recall = recall_score(val_labels_list, val_predictions_list, average='weighted', zero_division=0)\n",
    "        val_f1 = f1_score(val_labels_list, val_predictions_list, average='weighted', zero_division=0)\n",
    "        # Append metrics to lists\n",
    "        val_accuracy_list.append(val_accuracy)\n",
    "        val_precision_list.append(val_precision)\n",
    "        val_recall_list.append(val_recall)\n",
    "        val_f1_list.append(val_f1)\n",
    "\n",
    "        print(f'Training Accuracy: {train_accuracy:.2f}%, Validation Accuracy: {val_accuracy:.2f}%')\n",
    "\n",
    "    # Append metrics lists for this fold to overall lists\n",
    "    train_predictions_lists.append(train_predictions_list)\n",
    "    val_predictions_lists.append(val_predictions_list)\n",
    "    train_labels_lists.append(train_labels_list)\n",
    "    val_labels_lists.append(val_labels_list)\n",
    "    train_accuracy_lists.append(train_accuracy_list)\n",
    "    val_accuracy_lists.append(val_accuracy_list)\n",
    "    train_precision_lists.append(train_precision_list)\n",
    "    val_precision_lists.append(val_precision_list)\n",
    "    train_recall_lists.append(train_recall_list)\n",
    "    val_recall_lists.append(val_recall_list)\n",
    "    train_f1_lists.append(train_f1_list)\n",
    "    val_f1_lists.append(val_f1_list)\n",
    "    print(\"\\n\\n\")"
   ]
  },
  {
   "cell_type": "code",
   "execution_count": 30,
   "id": "ddcc4152",
   "metadata": {},
   "outputs": [
    {
     "data": {
      "image/png": "[encoded data removed]",
      "text/plain": [
       "<Figure size 800x600 with 2 Axes>"
      ]
     },
     "metadata": {},
     "output_type": "display_data"
    },
    {
     "data": {
      "image/png": "[encoded data removed]",
      "text/plain": [
       "<Figure size 800x600 with 2 Axes>"
      ]
     },
     "metadata": {},
     "output_type": "display_data"
    },
    {
     "data": {
      "image/png": "[encoded data removed]",
      "text/plain": [
       "<Figure size 800x600 with 2 Axes>"
      ]
     },
     "metadata": {},
     "output_type": "display_data"
    },
    {
     "data": {
      "image/png": "[encoded data removed]",
      "text/plain": [
       "<Figure size 800x600 with 2 Axes>"
      ]
     },
     "metadata": {},
     "output_type": "display_data"
    },
    {
     "data": {
      "image/png": "[encoded data removed]",
      "text/plain": [
       "<Figure size 800x600 with 2 Axes>"
      ]
     },
     "metadata": {},
     "output_type": "display_data"
    },
    {
     "name": "stdout",
     "output_type": "stream",
     "text": [
      "╒════════╤══════════════════╤════════════════╤═══════════════════╤═════════════════╤════════════════╤══════════════╤════════════╤═══════════╤═════════════╤════════════╕\n",
      "│ Fold   │   Train Accuracy │   Val Accuracy │   Train Precision │   Val Precision │   Train Recall │   Val Recall │   Train F1 │    Val F1 │   Train MCC │    Val MCC │\n",
      "╞════════╪══════════════════╪════════════════╪═══════════════════╪═════════════════╪════════════════╪══════════════╪════════════╪═══════════╪═════════════╪════════════╡\n",
      "│ Fold 1 │          4.80223 │        3.7112  │         0.0421838 │       0.0240237 │      0.0480223 │    0.037112  │  0.0325854 │ 0.0201336 │   0.0214586 │ 0.00978928 │\n",
      "├────────┼──────────────────┼────────────────┼───────────────────┼─────────────────┼────────────────┼──────────────┼────────────┼───────────┼─────────────┼────────────┤\n",
      "│ Fold 2 │          9.54553 │        4.46924 │         0.0883135 │       0.0409369 │      0.0954553 │    0.0446924 │  0.0780274 │ 0.0349549 │   0.0713437 │ 0.0190164  │\n",
      "├────────┼──────────────────┼────────────────┼───────────────────┼─────────────────┼────────────────┼──────────────┼────────────┼───────────┼─────────────┼────────────┤\n",
      "│ Fold 3 │         38.4693  │       12.2515  │         0.381346  │       0.124299  │      0.384693  │    0.122515  │  0.375154  │ 0.121293  │   0.368876  │ 0.0996479  │\n",
      "├────────┼──────────────────┼────────────────┼───────────────────┼─────────────────┼────────────────┼──────────────┼────────────┼───────────┼─────────────┼────────────┤\n",
      "│ Fold 4 │         72.9211  │       52.1095  │         0.729653  │       0.54107   │      0.729211  │    0.521095  │  0.728252  │ 0.525679  │   0.722221  │ 0.508962   │\n",
      "├────────┼──────────────────┼────────────────┼───────────────────┼─────────────────┼────────────────┼──────────────┼────────────┼───────────┼─────────────┼────────────┤\n",
      "│ Fold 5 │         87.2394  │       83.428   │         0.873411  │       0.840544  │      0.872394  │    0.83428   │  0.872473  │ 0.834813  │   0.869097  │ 0.830088   │\n",
      "╘════════╧══════════════════╧════════════════╧═══════════════════╧═════════════════╧════════════════╧══════════════╧════════════╧═══════════╧═════════════╧════════════╛\n"
     ]
    }
   ],
   "source": [
    "metrics_data = []\n",
    "\n",
    "for fold in range(5):\n",
    "    train_labels = train_labels_lists[fold]\n",
    "    train_predictions = train_predictions_lists[fold]\n",
    "    val_labels = val_labels_lists[fold]\n",
    "    val_predictions = val_predictions_lists[fold]\n",
    "\n",
    "    train_accuracy = accuracy_score(train_labels, train_predictions)\n",
    "    val_accuracy = accuracy_score(val_labels, val_predictions)\n",
    "    train_precision = precision_score(train_labels, train_predictions, average='weighted', zero_division=0)\n",
    "    val_precision = precision_score(val_labels, val_predictions, average='weighted', zero_division=0)\n",
    "    train_recall = recall_score(train_labels, train_predictions, average='weighted', zero_division=0)\n",
    "    val_recall = recall_score(val_labels, val_predictions, average='weighted', zero_division=0)\n",
    "    train_f1 = f1_score(train_labels, train_predictions, average='weighted', zero_division=0)\n",
    "    val_f1 = f1_score(val_labels, val_predictions, average='weighted', zero_division=0)\n",
    "    train_mcc = matthews_corrcoef(train_labels, train_predictions)\n",
    "    val_mcc = matthews_corrcoef(val_labels, val_predictions)\n",
    "\n",
    "    metrics_data.append([f'Fold {fold+1}', train_accuracy*100, val_accuracy*100, train_precision, val_precision, train_recall, val_recall, train_f1, val_f1, train_mcc, val_mcc])\n",
    "    \n",
    "    cm = confusion_matrix(val_labels, val_predictions)\n",
    "    plt.figure(figsize=(8, 6))\n",
    "    sns.heatmap(cm, cmap='crest', xticklabels=False, yticklabels=False, linecolor='black', linewidths=0.25)\n",
    "    plt.xlabel('Predicted')\n",
    "    plt.ylabel('True')\n",
    "    plt.title('Confusion Matrix')\n",
    "    plt.show()\n",
    "\n",
    "headers = ['Fold', 'Train Accuracy', 'Val Accuracy', 'Train Precision', 'Val Precision', 'Train Recall', 'Val Recall', 'Train F1', 'Val F1', 'Train MCC', 'Val MCC']\n",
    "\n",
    "print(tabulate(metrics_data, headers=headers, tablefmt=\"fancy_grid\"))"
   ]
  },
  {
   "cell_type": "code",
   "execution_count": 31,
   "id": "f3e95d8d",
   "metadata": {},
   "outputs": [],
   "source": [
    "def plot_metrics(metric_name):\n",
    "    train_list_name = eval('train_'+metric_name.split()[0].lower()+'_lists')\n",
    "    val_list_name = eval('val_'+metric_name.split()[0].lower()+'_lists')\n",
    "    plt.figure(figsize=(16, 6))\n",
    "    plt.subplot(1, 2, 1)\n",
    "    for fold in range(1, k+1):\n",
    "        plt.plot(range(1, len(train_list_name[0]) + 1), train_list_name[fold-1], label=f'Fold {fold}')\n",
    "    plt.title(f'Training {metric_name} for Each Fold')\n",
    "    plt.xlabel('Epoch')\n",
    "    plt.ylabel(metric_name)\n",
    "    plt.legend()\n",
    "    \n",
    "    plt.subplot(1, 2, 2)\n",
    "    for fold in range(1, k+1):\n",
    "        plt.plot(range(1, len(val_list_name[0]) + 1), val_list_name[fold-1], label=f'Fold {fold}')\n",
    "    plt.title(f'Validation {metric_name} for Each Fold')\n",
    "    plt.xlabel('Epoch')\n",
    "    plt.ylabel(metric_name)\n",
    "    plt.legend()\n",
    "    plt.show()"
   ]
  },
  {
   "cell_type": "code",
   "execution_count": 36,
   "id": "29452732",
   "metadata": {},
   "outputs": [
    {
     "data": {
      "image/png": "[encoded data removed]",
      "text/plain": [
       "<Figure size 1600x600 with 2 Axes>"
      ]
     },
     "metadata": {},
     "output_type": "display_data"
    },
    {
     "data": {
      "image/png": "[encoded data removed]",
      "text/plain": [
       "<Figure size 1600x600 with 2 Axes>"
      ]
     },
     "metadata": {},
     "output_type": "display_data"
    },
    {
     "data": {
      "image/png": "[encoded data removed]",
      "text/plain": [
       "<Figure size 1600x600 with 2 Axes>"
      ]
     },
     "metadata": {},
     "output_type": "display_data"
    },
    {
     "data": {
      "image/png": "[encoded data removed]",
      "text/plain": [
       "<Figure size 1600x600 with 2 Axes>"
      ]
     },
     "metadata": {},
     "output_type": "display_data"
    }
   ],
   "source": [
    "# Plot training and validation metrics\n",
    "plot_metrics('Accuracy')\n",
    "plot_metrics('Precision')\n",
    "plot_metrics('Recall')\n",
    "plot_metrics('F1 Score')"
   ]
  }
 ],
 "metadata": {
  "kernelspec": {
   "display_name": "Python 3 (ipykernel)",
   "language": "python",
   "name": "python3"
  },
  "language_info": {
   "codemirror_mode": {
    "name": "ipython",
    "version": 3
   },
   "file_extension": ".py",
   "mimetype": "text/x-python",
   "name": "python",
   "nbconvert_exporter": "python",
   "pygments_lexer": "ipython3",
   "version": "3.11.7"
  }
 },
 "nbformat": 4,
 "nbformat_minor": 5
}
